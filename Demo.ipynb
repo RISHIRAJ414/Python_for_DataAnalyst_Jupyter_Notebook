{
 "cells": [
  {
   "cell_type": "code",
   "execution_count": 3,
   "id": "e9bf90ed-79a4-40ef-b9d8-f2b0c754e82c",
   "metadata": {},
   "outputs": [
    {
     "name": "stdout",
     "output_type": "stream",
     "text": [
      "Namaste\n"
     ]
    }
   ],
   "source": [
    "print(\"Namaste\")"
   ]
  },
  {
   "cell_type": "markdown",
   "id": "75797de5-43de-4586-81f5-725152889a64",
   "metadata": {},
   "source": [
    "#First Notebook"
   ]
  },
  {
   "cell_type": "code",
   "execution_count": null,
   "id": "915de6d6-2305-4f5f-a167-bfbb266ffd12",
   "metadata": {},
   "outputs": [],
   "source": []
  },
  {
   "cell_type": "code",
   "execution_count": null,
   "id": "6497bd66-5f2a-4765-8da9-8fb6a85b407b",
   "metadata": {},
   "outputs": [],
   "source": []
  },
  {
   "cell_type": "code",
   "execution_count": null,
   "id": "8b4ceaf4-6961-4444-8f11-5b80b733e05f",
   "metadata": {},
   "outputs": [],
   "source": []
  },
  {
   "cell_type": "code",
   "execution_count": null,
   "id": "8d3ff650-bd08-4575-b334-8fae8968db7e",
   "metadata": {},
   "outputs": [],
   "source": []
  },
  {
   "cell_type": "code",
   "execution_count": null,
   "id": "06fb4426-8974-43ea-9ee1-1a0ff2ad58c6",
   "metadata": {},
   "outputs": [],
   "source": []
  },
  {
   "cell_type": "code",
   "execution_count": null,
   "id": "d956049b-a2bf-4f87-9a70-5ae02a07c3f2",
   "metadata": {},
   "outputs": [],
   "source": []
  },
  {
   "cell_type": "code",
   "execution_count": null,
   "id": "92f2194c-9d8e-4d73-a8d9-149c254782c8",
   "metadata": {},
   "outputs": [],
   "source": []
  },
  {
   "cell_type": "code",
   "execution_count": null,
   "id": "6bb310cd-36e4-45a7-9d8d-ce2eaa7c3d0f",
   "metadata": {},
   "outputs": [],
   "source": []
  },
  {
   "cell_type": "code",
   "execution_count": null,
   "id": "ee7680a6-f825-4b68-97b8-c95082e44940",
   "metadata": {},
   "outputs": [],
   "source": []
  },
  {
   "cell_type": "code",
   "execution_count": null,
   "id": "c858cacf-72f0-41de-995f-767aea6214ec",
   "metadata": {},
   "outputs": [],
   "source": []
  },
  {
   "cell_type": "code",
   "execution_count": null,
   "id": "0598965d-9786-495f-83cc-f5deb439a682",
   "metadata": {},
   "outputs": [],
   "source": []
  },
  {
   "cell_type": "code",
   "execution_count": null,
   "id": "f30e7e18-61f4-4602-945e-5c2c561c1300",
   "metadata": {},
   "outputs": [],
   "source": []
  }
 ],
 "metadata": {
  "kernelspec": {
   "display_name": "Python 3 (ipykernel)",
   "language": "python",
   "name": "python3"
  },
  "language_info": {
   "codemirror_mode": {
    "name": "ipython",
    "version": 3
   },
   "file_extension": ".py",
   "mimetype": "text/x-python",
   "name": "python",
   "nbconvert_exporter": "python",
   "pygments_lexer": "ipython3",
   "version": "3.12.7"
  }
 },
 "nbformat": 4,
 "nbformat_minor": 5
}
