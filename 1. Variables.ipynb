{
 "cells": [
  {
   "cell_type": "code",
   "execution_count": 111,
   "id": "2ab1e67d-8a34-4219-beee-394e21cfec98",
   "metadata": {},
   "outputs": [],
   "source": [
    "## Variables in Python ##"
   ]
  },
  {
   "cell_type": "code",
   "execution_count": 51,
   "id": "d7b7b221-7c0a-48d8-b56d-f8fcb51763ac",
   "metadata": {},
   "outputs": [
    {
     "name": "stdout",
     "output_type": "stream",
     "text": [
      "20\n"
     ]
    }
   ],
   "source": [
    "x = 20\n",
    "\n",
    "print (x)"
   ]
  },
  {
   "cell_type": "code",
   "execution_count": 5,
   "id": "c4d9925d-d764-4b6d-a248-8716e62f5c3f",
   "metadata": {},
   "outputs": [
    {
     "data": {
      "text/plain": [
       "int"
      ]
     },
     "execution_count": 5,
     "metadata": {},
     "output_type": "execute_result"
    }
   ],
   "source": [
    "type (x)"
   ]
  },
  {
   "cell_type": "code",
   "execution_count": 49,
   "id": "58ee4aab-7cd6-45f7-b8a9-213880975704",
   "metadata": {},
   "outputs": [
    {
     "name": "stdout",
     "output_type": "stream",
     "text": [
      "Rishi Raj\n"
     ]
    },
    {
     "data": {
      "text/plain": [
       "str"
      ]
     },
     "execution_count": 49,
     "metadata": {},
     "output_type": "execute_result"
    }
   ],
   "source": [
    "y='Rishi Raj'\n",
    "\n",
    "print (y)\n",
    "type (y)"
   ]
  },
  {
   "cell_type": "code",
   "execution_count": null,
   "id": "8b91af1a-a9ba-4d81-9919-92286a92d3c9",
   "metadata": {},
   "outputs": [],
   "source": []
  },
  {
   "cell_type": "code",
   "execution_count": null,
   "id": "1b22dda8-a0eb-4e39-bf23-4044edef47db",
   "metadata": {},
   "outputs": [],
   "source": [
    "##Assigning string,floating point(just to check)."
   ]
  },
  {
   "cell_type": "code",
   "execution_count": 33,
   "id": "f2eac32b-bbde-467a-a981-2afb130e3eb2",
   "metadata": {},
   "outputs": [
    {
     "name": "stdout",
     "output_type": "stream",
     "text": [
      "Rishi Raj\n"
     ]
    },
    {
     "data": {
      "text/plain": [
       "str"
      ]
     },
     "execution_count": 33,
     "metadata": {},
     "output_type": "execute_result"
    }
   ],
   "source": [
    "print (y)\n",
    "type (y)"
   ]
  },
  {
   "cell_type": "code",
   "execution_count": 47,
   "id": "3462015d-f3d2-409d-8e41-bbf024d3745d",
   "metadata": {},
   "outputs": [
    {
     "name": "stdout",
     "output_type": "stream",
     "text": [
      "1.2445\n"
     ]
    },
    {
     "data": {
      "text/plain": [
       "float"
      ]
     },
     "execution_count": 47,
     "metadata": {},
     "output_type": "execute_result"
    }
   ],
   "source": [
    "z=1.2445\n",
    "\n",
    "print (z)\n",
    "type (z)"
   ]
  },
  {
   "cell_type": "code",
   "execution_count": 61,
   "id": "6446fc5e-a1c9-4726-9d52-8fc42595dac1",
   "metadata": {},
   "outputs": [
    {
     "name": "stdout",
     "output_type": "stream",
     "text": [
      "Rishi\n"
     ]
    }
   ],
   "source": [
    "y = 'Rishi'\n",
    "\n",
    "print (y) # Here we can see that we can overassign different data or values again to a same variable.\n"
   ]
  },
  {
   "cell_type": "code",
   "execution_count": 63,
   "id": "91084532-4d56-47ea-aaca-289831f718e3",
   "metadata": {},
   "outputs": [
    {
     "name": "stdout",
     "output_type": "stream",
     "text": [
      "Rishi Raj\n"
     ]
    }
   ],
   "source": [
    "y = 'Rishi'\n",
    "y= 'Rishi Raj'\n",
    "\n",
    "print (y) # So, here it is giving result as Rishi Raj because first it assign 'Rishi' as a value at first line, \n",
    "          # but after coming to the second line it again assign 'Rishi Raj' to the variable (y) and hence the result is Rishi Raj.\n",
    "          # NOTE:Variables are case sensitive(Upper case and Lower case are different).\n"
   ]
  },
  {
   "cell_type": "code",
   "execution_count": null,
   "id": "ca5e1368-6994-4cf8-b1f8-9256ee4fc63e",
   "metadata": {},
   "outputs": [],
   "source": []
  },
  {
   "cell_type": "code",
   "execution_count": null,
   "id": "197d387f-85e9-404e-abd3-59e9b0e79e64",
   "metadata": {},
   "outputs": [],
   "source": [
    "##Assigning multiple values to multiple variables. "
   ]
  },
  {
   "cell_type": "code",
   "execution_count": 41,
   "id": "9adec0c4-e39c-4654-9a7c-91dedc595031",
   "metadata": {},
   "outputs": [
    {
     "name": "stdout",
     "output_type": "stream",
     "text": [
      "Apple\n",
      "Banana\n",
      "Mango\n"
     ]
    }
   ],
   "source": [
    "x,y,z = 'Apple','Banana','Mango'\n",
    "\n",
    "print (x)\n",
    "print (y)\n",
    "print (z)\n"
   ]
  },
  {
   "cell_type": "code",
   "execution_count": null,
   "id": "d918d2b4-cc3f-426b-90db-e95ffe83da0f",
   "metadata": {},
   "outputs": [],
   "source": []
  },
  {
   "cell_type": "code",
   "execution_count": null,
   "id": "2e4901d3-3b51-453f-bb30-0031a1968f08",
   "metadata": {},
   "outputs": [],
   "source": [
    "##Assigning single value to multiple variables. "
   ]
  },
  {
   "cell_type": "code",
   "execution_count": 53,
   "id": "6b9b47e7-131f-4687-8e3b-dbf1e19193f7",
   "metadata": {},
   "outputs": [
    {
     "name": "stdout",
     "output_type": "stream",
     "text": [
      "Apple Mango Banana\n",
      "Apple Mango Banana\n",
      "Apple Mango Banana\n"
     ]
    }
   ],
   "source": [
    "x=y=z = 'Apple Mango Banana'\n",
    "\n",
    "print (x)\n",
    "print (y)\n",
    "print (z)\n"
   ]
  },
  {
   "cell_type": "code",
   "execution_count": null,
   "id": "2d6b1f6b-322b-4886-a38e-1906085e35e5",
   "metadata": {},
   "outputs": [],
   "source": []
  },
  {
   "cell_type": "code",
   "execution_count": null,
   "id": "dac117f3-7011-4824-b88a-54a2ac365a93",
   "metadata": {},
   "outputs": [],
   "source": [
    "##Creating List"
   ]
  },
  {
   "cell_type": "code",
   "execution_count": 59,
   "id": "b368e5ba-fd09-44cb-83df-30c4491d4f79",
   "metadata": {},
   "outputs": [
    {
     "name": "stdout",
     "output_type": "stream",
     "text": [
      "Apple\n",
      "Banana\n",
      "Mango\n"
     ]
    }
   ],
   "source": [
    "fruits_list=['Apple','Banana','Mango']\n",
    "\n",
    "x,y,z = fruits_list\n",
    "\n",
    "print (x)\n",
    "print (y)\n",
    "print (z)\n"
   ]
  },
  {
   "cell_type": "code",
   "execution_count": null,
   "id": "0c89ea9a-36ed-43d7-91c1-1b7db257c23b",
   "metadata": {},
   "outputs": [],
   "source": []
  },
  {
   "cell_type": "code",
   "execution_count": null,
   "id": "da6219b1-9ef8-4c20-b750-ce89707e62e7",
   "metadata": {},
   "outputs": [],
   "source": [
    "##Few Best Practices for Naming Variables:"
   ]
  },
  {
   "cell_type": "code",
   "execution_count": 67,
   "id": "cfb36ce6-0814-4fa2-98e2-366ac590ad93",
   "metadata": {},
   "outputs": [
    {
     "name": "stdout",
     "output_type": "stream",
     "text": [
      "Apple\n"
     ]
    }
   ],
   "source": [
    "#1.Camel Case\n",
    "# -Test Variable Case\n",
    "myFruitsList = 'Apple' # Here in this Camel Case of Naming Varible\"the first character of the first word will be in lower case,and\n",
    "                       # all the first character of all words will be in Upper case.\n",
    "\n",
    "print(myFruitsList)"
   ]
  },
  {
   "cell_type": "code",
   "execution_count": 71,
   "id": "eca572bb-23a2-4028-a553-870d16b6abe2",
   "metadata": {},
   "outputs": [
    {
     "name": "stdout",
     "output_type": "stream",
     "text": [
      "Apple\n"
     ]
    }
   ],
   "source": [
    "#2.Pascal Case\n",
    "# -Test Variable Case\n",
    "MyFruitsList = 'Apple' # Here in this pascal Case of Naming Varible\"all the first character of all words will be in Upper case\"\n",
    "\n",
    "print(MyFruitsList)                     "
   ]
  },
  {
   "cell_type": "code",
   "execution_count": 93,
   "id": "8762fce8-f8f0-4855-a4f7-817768d4e9fd",
   "metadata": {},
   "outputs": [
    {
     "name": "stdout",
     "output_type": "stream",
     "text": [
      "Apple\n"
     ]
    }
   ],
   "source": [
    "#2.Snake Case (Most Popular and Compatible)\n",
    "# -Test Variable Case\n",
    "my_fruit_list = 'Apple'# Here in this Snake Case of Naming Varible\"all the character of all words will be in Lower case and the words is separated by _\"\n",
    "                       # Also this is compatible in sql,mysql as well and is widely used in MS-Excel too.\n",
    "\n",
    "print(my_fruit_list)                     "
   ]
  },
  {
   "cell_type": "code",
   "execution_count": null,
   "id": "41145a77-ea27-4651-aa89-555ab763e835",
   "metadata": {},
   "outputs": [],
   "source": []
  },
  {
   "cell_type": "code",
   "execution_count": null,
   "id": "f1da95c9-e3f3-4895-99bf-142f5d5caf11",
   "metadata": {},
   "outputs": [],
   "source": [
    "##Using '+' sign in Varible"
   ]
  },
  {
   "cell_type": "code",
   "execution_count": 89,
   "id": "31bfbb71-bdb4-4f5f-84c3-48dbe63f1d86",
   "metadata": {},
   "outputs": [
    {
     "name": "stdout",
     "output_type": "stream",
     "text": [
      "Apple is redBanana is yellow\n"
     ]
    }
   ],
   "source": [
    "x = 'Apple is red' + 'Banana is yellow'\n",
    "\n",
    "print (x)"
   ]
  },
  {
   "cell_type": "code",
   "execution_count": 99,
   "id": "6b6f7fb1-0e18-4b88-8830-b84c420564c0",
   "metadata": {},
   "outputs": [
    {
     "name": "stdout",
     "output_type": "stream",
     "text": [
      "Apple is red , Banana is yellow  ,  Mango is green .\n"
     ]
    }
   ],
   "source": [
    "x = 'Apple is red' + ' , Banana is yellow' + '  ,  Mango is green ' + '.'\n",
    "\n",
    "print (x)"
   ]
  },
  {
   "cell_type": "code",
   "execution_count": 95,
   "id": "3efd38f4-5017-4532-9c48-67bcb959988c",
   "metadata": {},
   "outputs": [
    {
     "name": "stdout",
     "output_type": "stream",
     "text": [
      "5\n"
     ]
    }
   ],
   "source": [
    "y = 2 + 3\n",
    "\n",
    "print (y)"
   ]
  },
  {
   "cell_type": "code",
   "execution_count": 105,
   "id": "1c65dad9-68b1-48cb-9002-f67cf55f72ca",
   "metadata": {},
   "outputs": [
    {
     "name": "stdout",
     "output_type": "stream",
     "text": [
      "Apple is red.\n"
     ]
    }
   ],
   "source": [
    "x = 'Apple'\n",
    "y = ' is'\n",
    "z = ' red.'\n",
    "\n",
    "print (x+y+z)\n"
   ]
  },
  {
   "cell_type": "code",
   "execution_count": 107,
   "id": "f6d049a2-b5e0-40fe-99f7-f8c5c987f20e",
   "metadata": {},
   "outputs": [
    {
     "name": "stdout",
     "output_type": "stream",
     "text": [
      "6\n"
     ]
    }
   ],
   "source": [
    "x = 1\n",
    "y = 2\n",
    "z = 3\n",
    "\n",
    "print (x+y+z)"
   ]
  },
  {
   "cell_type": "code",
   "execution_count": 109,
   "id": "c83c5e42-e648-496b-8012-01cb8dc4ab0f",
   "metadata": {},
   "outputs": [
    {
     "name": "stdout",
     "output_type": "stream",
     "text": [
      "Apple  2\n"
     ]
    }
   ],
   "source": [
    "##Using ',' in order to overcome :\n",
    "#       x = 'Apple'\n",
    "#       y = ' 2'\n",
    "#     print (x+y)\n",
    "# To get the result as 'Apple 2' was not possible because of two different type of data types.\n",
    "# But now we can get the result of 'Apple 2' using ',' comma sign.\n",
    "\n",
    "x = 'Apple'\n",
    "y = ' 2'\n",
    "print (x,y)"
   ]
  },
  {
   "cell_type": "code",
   "execution_count": null,
   "id": "050dad1c-014f-449a-84c8-162771e26891",
   "metadata": {},
   "outputs": [],
   "source": []
  },
  {
   "cell_type": "code",
   "execution_count": null,
   "id": "30a2e522-8179-4669-b9ed-25ca884ccd8d",
   "metadata": {},
   "outputs": [],
   "source": []
  },
  {
   "cell_type": "code",
   "execution_count": null,
   "id": "0fdc6a88-6a36-4dec-97f4-979939a3fc68",
   "metadata": {},
   "outputs": [],
   "source": []
  },
  {
   "cell_type": "code",
   "execution_count": null,
   "id": "2f3f2720-2af8-4091-9ab6-d048e1acd51c",
   "metadata": {},
   "outputs": [],
   "source": []
  },
  {
   "cell_type": "code",
   "execution_count": null,
   "id": "120a0514-e4c6-4d89-94f8-a19102db869a",
   "metadata": {},
   "outputs": [],
   "source": []
  }
 ],
 "metadata": {
  "kernelspec": {
   "display_name": "Python 3 (ipykernel)",
   "language": "python",
   "name": "python3"
  },
  "language_info": {
   "codemirror_mode": {
    "name": "ipython",
    "version": 3
   },
   "file_extension": ".py",
   "mimetype": "text/x-python",
   "name": "python",
   "nbconvert_exporter": "python",
   "pygments_lexer": "ipython3",
   "version": "3.12.7"
  }
 },
 "nbformat": 4,
 "nbformat_minor": 5
}
