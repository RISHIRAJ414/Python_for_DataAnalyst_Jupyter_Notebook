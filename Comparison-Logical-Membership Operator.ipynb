{
 "cells": [
  {
   "cell_type": "code",
   "execution_count": 37,
   "id": "5fcd33e0-b9af-491c-9f40-f6cad0966cd9",
   "metadata": {},
   "outputs": [],
   "source": [
    "## Comparison - Logical - Membership Operator ##"
   ]
  },
  {
   "cell_type": "code",
   "execution_count": 35,
   "id": "bea1b7fe-6b64-4af1-bc0b-3e34bb510977",
   "metadata": {},
   "outputs": [],
   "source": [
    "#1.Comaprison Operstors\n",
    "\n",
    "#Comparison operators in Python are used to compare two values. These operators evaluate expressions and return a Boolean value (True or False). \n",
    "#Here are the comparison operators in Python:\n",
    "#    *Operators                      : Description                                  *Example       *Result\n",
    "# ==\tEqual to:                    checks if two values are equal\t                5 == 5\t        True\n",
    "# !=    Not equal to:                checks if two values are not equal\t            5 != 3        \tTrue\n",
    "# >\t   Greater than:                 checks if the left value is greater\t        5 > 3\t        True\n",
    "# <\t   Less than:                    checks if the left value is less\t            5 < 3\t        False\n",
    "# >=   Greater than or equal to:     checks if the left value is greater or equal\t5 >= 5\t        True\n",
    "# <=   Less than or equal to:        checks if the left value is less or equal\t    5 <= 3\t        False\n",
    "\n",
    "#Example Usage\n",
    "#- Define two numbers\n",
    "#     a = 10\n",
    "#     b = 20\n",
    "\n",
    "#- Comparison operations\n",
    "#     print(a == b)  # False\n",
    "#     print(a != b)  # True\n",
    "#     print(a > b)   # False\n",
    "#     print(a < b)   # True\n",
    "#     print(a >= b)  # False\n",
    "#     print(a <= b)  # True      \n",
    "#NOTE: While CODING THERE SHOLULD BE NO EXTRA SPACE BEFORE ANY OF THE CODE LINE . Otherwise it wiill show indentation issue in your code.\n",
    "\n",
    "#Use Cases\n",
    "# *Conditional Statements: Frequently used in if, elif, and while statements to control program flow.\n",
    "# *Sorting and Filtering: Helpful in data processing tasks, like filtering datasets.\n"
   ]
  },
  {
   "cell_type": "code",
   "execution_count": 9,
   "id": "99233325-bd56-4f51-b728-d7a5555748ac",
   "metadata": {},
   "outputs": [
    {
     "data": {
      "text/plain": [
       "True"
      ]
     },
     "execution_count": 9,
     "metadata": {},
     "output_type": "execute_result"
    }
   ],
   "source": [
    "10 == 10"
   ]
  },
  {
   "cell_type": "code",
   "execution_count": 11,
   "id": "9d4e73ea-c4de-468b-ac64-c0bd941d786e",
   "metadata": {},
   "outputs": [
    {
     "data": {
      "text/plain": [
       "False"
      ]
     },
     "execution_count": 11,
     "metadata": {},
     "output_type": "execute_result"
    }
   ],
   "source": [
    "10 == 50"
   ]
  },
  {
   "cell_type": "code",
   "execution_count": 13,
   "id": "3fac911b-f8b4-4888-a961-d2494c4e54b4",
   "metadata": {},
   "outputs": [
    {
     "data": {
      "text/plain": [
       "True"
      ]
     },
     "execution_count": 13,
     "metadata": {},
     "output_type": "execute_result"
    }
   ],
   "source": [
    "10 != 50"
   ]
  },
  {
   "cell_type": "code",
   "execution_count": 17,
   "id": "33cd4182-266e-473d-b7a9-72aefccb783f",
   "metadata": {},
   "outputs": [
    {
     "data": {
      "text/plain": [
       "True"
      ]
     },
     "execution_count": 17,
     "metadata": {},
     "output_type": "execute_result"
    }
   ],
   "source": [
    "'Apple' == 'Apple'"
   ]
  },
  {
   "cell_type": "code",
   "execution_count": 19,
   "id": "5d191051-8a40-4d2e-9e07-b2d9dd4c39ef",
   "metadata": {},
   "outputs": [
    {
     "data": {
      "text/plain": [
       "False"
      ]
     },
     "execution_count": 19,
     "metadata": {},
     "output_type": "execute_result"
    }
   ],
   "source": [
    "'Apple' == 'Mango'"
   ]
  },
  {
   "cell_type": "code",
   "execution_count": 33,
   "id": "16e25236-2738-4d2b-a7fb-d546dc3dbac0",
   "metadata": {},
   "outputs": [
    {
     "data": {
      "text/plain": [
       "False"
      ]
     },
     "execution_count": 33,
     "metadata": {},
     "output_type": "execute_result"
    }
   ],
   "source": [
    "x = 'Apple'\n",
    "y = 'Mango'\n",
    "\n",
    "x==y"
   ]
  },
  {
   "cell_type": "code",
   "execution_count": 31,
   "id": "aa3ee94a-cd96-4a02-98c3-ce993ae051a5",
   "metadata": {},
   "outputs": [
    {
     "name": "stdout",
     "output_type": "stream",
     "text": [
      "False\n",
      "True\n",
      "False\n",
      "True\n",
      "False\n",
      "True\n"
     ]
    }
   ],
   "source": [
    "#- Define two numbers\n",
    "a = 10\n",
    "b = 20\n",
    "\n",
    "#- Comparison operations\n",
    "print(a == b)  \n",
    "print(a != b)  \n",
    "print(a > b)   \n",
    "print(a < b)   \n",
    "print(a >= b)  \n",
    "print(a <= b)  \n"
   ]
  },
  {
   "cell_type": "code",
   "execution_count": null,
   "id": "c9c70e61-77cf-45d8-b8e5-dbc6c31b0f4f",
   "metadata": {},
   "outputs": [],
   "source": []
  },
  {
   "cell_type": "code",
   "execution_count": null,
   "id": "97314499-5e04-4bd3-8150-233220222098",
   "metadata": {},
   "outputs": [],
   "source": []
  },
  {
   "cell_type": "code",
   "execution_count": 41,
   "id": "d93acbbb-48dd-4bfe-b876-bee2b5b7a312",
   "metadata": {},
   "outputs": [],
   "source": [
    "#2.Logical Operators\n",
    "\n",
    "#Logical operators in Python are used to combine conditional statements and perform logical operations. \n",
    "#They return Boolean values (True or False) based on the conditions provided.\n",
    "\n",
    "#The three logical operators in Python are:\n",
    "#1.  -and (Logical AND)\n",
    "#    :Returns True if both conditions are True.\n",
    "#2.  -or (Logical OR)\n",
    "#    :Returns True if at least one condition is True.\n",
    "#3.  -not (Logical NOT)\n",
    "#   :Reverses the logical state of a condition.\n",
    "#    *If a condition is True, it becomes False.\n",
    "#    *If a condition is False, it becomes True.\n",
    "\n",
    "#Logical Operators in Conditional Statements. \n",
    "#Example :\n",
    "#Logical operators are often used in if statements for decision-making:\n",
    "#   x = 5\n",
    "#   y = 10\n",
    "# if x > 0 and y > 0:\n",
    "#    print(\"Both numbers are positive\")\n",
    "# if x > 0 or y < 0:\n",
    "#    print(\"At least one condition is True\")\n",
    "# if not (x < 0):\n",
    "#    print(\"x is not negative\")\n",
    "\n",
    "#Key Characteristics:\n",
    "# 1.Boolean Evaluation:\n",
    "# *Logical operators evaluate expressions and return True or False.\n",
    "# *They work with Boolean values (True, False) or expressions that can be coerced into Boolean values.\n",
    "\n",
    "# 2.Short-Circuit Evaluation:\n",
    "# *Logical operators stop evaluating as soon as the result is determined:\n",
    "# *and stops and returns False if the first condition is False.\n",
    "# *or stops and returns True if the first condition is True.\n",
    "\n",
    "# 3.Combining Conditions:\n",
    "# *Used to combine multiple conditional statements into a single expression.\n",
    "\n",
    "# 4.Operator Precedence:\n",
    "# -Logical operators have specific precedence:\n",
    "# *not has the highest precedence.\n",
    "# *and comes next.\n",
    "# *or has the lowest precedence.\n",
    "# *Use parentheses for clarity when combining multiple logical operators.\n",
    "\n",
    "# 5.Readable Syntax:\n",
    "# *The keywords and, or, and not are intuitive and human-readable compared to symbols like && or || in other languages.\n",
    "\n",
    "#Uses:\n",
    "# 1.Conditional Decision-Making:\n",
    "# *Combine multiple conditions in if, elif, and while statements.\n",
    "# 2.Filtering Data:\n",
    "# *Used in loops or list comprehensions to filter elements based on multiple criteria.\n",
    "# 3.Validation of Inputs:\n",
    "# *Ensure multiple conditions are satisfied before proceeding. \n",
    "# 4.Inverting Conditions:\n",
    "# *Use not to negate a condition.\n",
    "# 5.Control Flow in Loops:\n",
    "# *Control the execution of loops using logical operators.\n",
    "# 6.Simplify Complex Logic:\n",
    "# *Combine multiple conditions into one for better readability and maintainability.\n",
    "# 7.Error Handling:\n",
    "# *Use logical operators to validate and handle errors in input or operations.\n",
    "\n"
   ]
  },
  {
   "cell_type": "code",
   "execution_count": 59,
   "id": "60c379ce-cc41-443c-a09d-43b59f1d9d06",
   "metadata": {},
   "outputs": [
    {
     "name": "stdout",
     "output_type": "stream",
     "text": [
      "Both numbers are positive\n",
      "At least one condition is True\n",
      "x is not negative\n"
     ]
    }
   ],
   "source": [
    "x = 5\n",
    "y = 10\n",
    "\n",
    "if x > 0 and y > 0:\n",
    "    print(\"Both numbers are positive\")  \n",
    "if x > 0 or y < 0:\n",
    "    print(\"At least one condition is True\")  \n",
    "\n",
    "if not (x < 0):\n",
    "    print(\"x is not negative\")  \n"
   ]
  },
  {
   "cell_type": "code",
   "execution_count": 73,
   "id": "033ec28c-1a40-4d35-9ef0-9c38f01b0179",
   "metadata": {},
   "outputs": [
    {
     "data": {
      "text/plain": [
       "False"
      ]
     },
     "execution_count": 73,
     "metadata": {},
     "output_type": "execute_result"
    }
   ],
   "source": [
    "(10 > 50) and (10 < 50) #Both conditoins should be correct in order ot get True."
   ]
  },
  {
   "cell_type": "code",
   "execution_count": 91,
   "id": "141e223b-4409-4d16-badf-2af13b1481cb",
   "metadata": {},
   "outputs": [
    {
     "data": {
      "text/plain": [
       "True"
      ]
     },
     "execution_count": 91,
     "metadata": {},
     "output_type": "execute_result"
    }
   ],
   "source": [
    "(10 == 10) and (10 < 50) #Both conditoins should be correct in order ot get True."
   ]
  },
  {
   "cell_type": "code",
   "execution_count": 107,
   "id": "35225956-bf52-4f9e-8735-d6bfa9ef6f51",
   "metadata": {},
   "outputs": [
    {
     "data": {
      "text/plain": [
       "True"
      ]
     },
     "execution_count": 107,
     "metadata": {},
     "output_type": "execute_result"
    }
   ],
   "source": [
    "'Apple' < 'Mango' and 'Mango' < 'Orange'\n",
    "#NOTE : True or False is Based on the Index of the Character in Alphabets.The LARGER the INDEX the larger the String is ."
   ]
  },
  {
   "cell_type": "code",
   "execution_count": 83,
   "id": "275dcb52-0050-484c-ac74-6bd83fa53bb2",
   "metadata": {},
   "outputs": [
    {
     "data": {
      "text/plain": [
       "True"
      ]
     },
     "execution_count": 83,
     "metadata": {},
     "output_type": "execute_result"
    }
   ],
   "source": [
    "(10 > 50) or (10 < 50)  #At least one if the conditoins should be correct in order ot get True."
   ]
  },
  {
   "cell_type": "code",
   "execution_count": 93,
   "id": "2bb7b658-ef75-4431-b8e4-a2a20287ae19",
   "metadata": {},
   "outputs": [
    {
     "data": {
      "text/plain": [
       "True"
      ]
     },
     "execution_count": 93,
     "metadata": {},
     "output_type": "execute_result"
    }
   ],
   "source": [
    "'Apple' < 'Mango' or 'Mango' > 'Orange'  # Output is Based on the Index of the Character in Alphabets."
   ]
  },
  {
   "cell_type": "code",
   "execution_count": 103,
   "id": "65eeeadf-1167-46f5-b570-922b810a3c60",
   "metadata": {},
   "outputs": [
    {
     "data": {
      "text/plain": [
       "True"
      ]
     },
     "execution_count": 103,
     "metadata": {},
     "output_type": "execute_result"
    }
   ],
   "source": [
    "not (10 > 50)  #It just reverse the Solution (Replace True with false and Vice-Versa)"
   ]
  },
  {
   "cell_type": "code",
   "execution_count": 101,
   "id": "74244b65-03c7-49ba-ae85-28bb967d9b39",
   "metadata": {},
   "outputs": [
    {
     "data": {
      "text/plain": [
       "True"
      ]
     },
     "execution_count": 101,
     "metadata": {},
     "output_type": "execute_result"
    }
   ],
   "source": [
    "not 'Mango' > 'Orange'"
   ]
  },
  {
   "cell_type": "code",
   "execution_count": 109,
   "id": "db9d7427-e866-4bfd-b1f8-83972ccc24bc",
   "metadata": {},
   "outputs": [
    {
     "data": {
      "text/plain": [
       "False"
      ]
     },
     "execution_count": 109,
     "metadata": {},
     "output_type": "execute_result"
    }
   ],
   "source": [
    "not (10 == 10) "
   ]
  },
  {
   "cell_type": "code",
   "execution_count": null,
   "id": "c990ff87-b418-4124-9bd0-355ca56891fd",
   "metadata": {},
   "outputs": [],
   "source": []
  },
  {
   "cell_type": "code",
   "execution_count": null,
   "id": "7c1d2170-0532-4ac1-8713-1174d8cbd33b",
   "metadata": {},
   "outputs": [],
   "source": []
  },
  {
   "cell_type": "code",
   "execution_count": 117,
   "id": "60e14214-6607-47bb-b554-e45292fc2f2d",
   "metadata": {},
   "outputs": [],
   "source": [
    "#3. Membership Operators\n",
    "\n",
    "#Membership operators in Python are used to check whether a value or variable is present in a sequence(such as a string,list,tuple,set,or dictionary) \n",
    "#Python provides two membership operators: in operator & not in operator \n",
    "#1. in Operator:\n",
    "# *Checks if a value is present in a sequence.\n",
    "# *Returns True if the value is found; otherwise, it returns False.\n",
    "\n",
    "# Syntax:\n",
    "#      value in sequence\n",
    "\n",
    "#Example:\n",
    "# Example with a list\n",
    "#        fruits = [\"apple\", \"banana\", \"cherry\"]\n",
    "#        print(\"apple\" in fruits)  # Output: True\n",
    "\n",
    "# Example with a string\n",
    "#        text = \"Namaste, world!\"\n",
    "#        print(\"Namaste\" in text)  # Output: True\n",
    "\n",
    "\n",
    "#2. not in Operator:\n",
    "# *Checks if a value is not present in a sequence.\n",
    "# *Returns True if the value is not found; otherwise, it returns False.\n",
    "\n",
    "#Syntax:\n",
    "#      value not in sequence\n",
    "\n",
    "#Example:\n",
    "# Example with a list\n",
    "#      fruits = [\"apple\", \"banana\", \"cherry\"]\n",
    "#      print(\"orange\" not in fruits)  # Output: True\n",
    "\n",
    "# Example with a string\n",
    "#      text = \"Namaste, world!\"\n",
    "#      print(\"Python\" not in text)  # Output: True\n",
    "\n",
    "#Use Cases\n",
    "# *Strings: Check for substrings in a string.\n",
    "# *Lists/Tuples: Check if an element exists.\n",
    "# *Dictionaries: Check for keys (by default, membership in dictionaries checks for keys, not values).\n",
    "# *Sets: Check if an element exists in a set.\n",
    "\n",
    "#Example with a dictionary:\n",
    "#      person = {\"name\": \"Rishi\", \"age\": 20}\n",
    "#      print(\"name\" in person)        # Output: True\n",
    "#      print(\"Rishi\" in person)       # Output: False\n",
    "#      print(\"gender\" not in person)  # Output: True\n"
   ]
  },
  {
   "cell_type": "code",
   "execution_count": null,
   "id": "18dcfab0-f246-4445-96de-d92a0c1678a0",
   "metadata": {},
   "outputs": [],
   "source": [
    "#-- in operator --"
   ]
  },
  {
   "cell_type": "code",
   "execution_count": 119,
   "id": "a25e6b3e-ff27-4d93-baef-c6a648378842",
   "metadata": {},
   "outputs": [
    {
     "name": "stdout",
     "output_type": "stream",
     "text": [
      "True\n"
     ]
    }
   ],
   "source": [
    "#Example with a list.\n",
    "fruits = [\"apple\", \"banana\", \"cherry\"]\n",
    "print(\"apple\" in fruits)  # Output:"
   ]
  },
  {
   "cell_type": "code",
   "execution_count": 121,
   "id": "05719e05-3150-4fc4-be42-7176857a2243",
   "metadata": {},
   "outputs": [
    {
     "name": "stdout",
     "output_type": "stream",
     "text": [
      "True\n"
     ]
    }
   ],
   "source": [
    "#Example with a string.\n",
    "text = \"Namaste, world!\"\n",
    "print(\"Namaste\" in text) "
   ]
  },
  {
   "cell_type": "code",
   "execution_count": 129,
   "id": "707d980a-661b-440e-94e4-97ff0da68c2e",
   "metadata": {},
   "outputs": [
    {
     "name": "stdout",
     "output_type": "stream",
     "text": [
      "False\n"
     ]
    }
   ],
   "source": [
    "#Example with a string.\n",
    "text = \"Namaste, world!\"\n",
    "print(\"Hello\" in text) "
   ]
  },
  {
   "cell_type": "code",
   "execution_count": null,
   "id": "136100bb-fe38-47f5-bc2d-428c7379e031",
   "metadata": {},
   "outputs": [],
   "source": []
  },
  {
   "cell_type": "code",
   "execution_count": null,
   "id": "40043184-ba0f-4211-96e4-705dc6ed7837",
   "metadata": {},
   "outputs": [],
   "source": [
    "#--not in operator --"
   ]
  },
  {
   "cell_type": "code",
   "execution_count": 125,
   "id": "6005eb79-c957-4939-9efc-48899baa63da",
   "metadata": {},
   "outputs": [
    {
     "name": "stdout",
     "output_type": "stream",
     "text": [
      "True\n"
     ]
    }
   ],
   "source": [
    "# Example with a list\n",
    "fruits = [\"apple\", \"banana\", \"cherry\"]\n",
    "print(\"orange\" not in fruits)  "
   ]
  },
  {
   "cell_type": "code",
   "execution_count": 131,
   "id": "68f9618b-dcbe-42cc-829f-f5d94d60f251",
   "metadata": {},
   "outputs": [
    {
     "name": "stdout",
     "output_type": "stream",
     "text": [
      "True\n"
     ]
    }
   ],
   "source": [
    "# Example with a string\n",
    "text = \"Namaste, world!\"\n",
    "print(\"Hello\" not in text)  "
   ]
  },
  {
   "cell_type": "code",
   "execution_count": 133,
   "id": "2017b732-8dd0-4174-85ef-a2d283f586c0",
   "metadata": {},
   "outputs": [
    {
     "name": "stdout",
     "output_type": "stream",
     "text": [
      "False\n"
     ]
    }
   ],
   "source": [
    "# Example with a string\n",
    "text = \"Namaste, world!\"\n",
    "print(\"Namaste\" not in text)  "
   ]
  },
  {
   "cell_type": "code",
   "execution_count": null,
   "id": "0c8afbee-34ea-420a-9019-fe1d36b0dd89",
   "metadata": {},
   "outputs": [],
   "source": []
  },
  {
   "cell_type": "code",
   "execution_count": 143,
   "id": "c151acce-9fd4-45cd-b2dd-3063424b9642",
   "metadata": {},
   "outputs": [],
   "source": [
    "#--Wanted use case--(Checking if present in or not in)"
   ]
  },
  {
   "cell_type": "code",
   "execution_count": 135,
   "id": "3aee6415-c2a8-4da4-aa44-1caa0878fc8a",
   "metadata": {},
   "outputs": [
    {
     "data": {
      "text/plain": [
       "False"
      ]
     },
     "execution_count": 135,
     "metadata": {},
     "output_type": "execute_result"
    }
   ],
   "source": [
    "numbers = [1,2,3,4,5]\n",
    "wanted_number = 8\n",
    "\n",
    "wanted_number in numbers"
   ]
  },
  {
   "cell_type": "code",
   "execution_count": 137,
   "id": "76058670-8b78-41e6-9232-e52266054b5d",
   "metadata": {},
   "outputs": [
    {
     "data": {
      "text/plain": [
       "True"
      ]
     },
     "execution_count": 137,
     "metadata": {},
     "output_type": "execute_result"
    }
   ],
   "source": [
    "numbers = [1,2,3,4,5]\n",
    "wanted_number = 5\n",
    "\n",
    "wanted_number in numbers"
   ]
  },
  {
   "cell_type": "code",
   "execution_count": 139,
   "id": "0227ded8-790c-4704-8b16-a8d2a4b5cf79",
   "metadata": {},
   "outputs": [
    {
     "data": {
      "text/plain": [
       "True"
      ]
     },
     "execution_count": 139,
     "metadata": {},
     "output_type": "execute_result"
    }
   ],
   "source": [
    "numbers = [1,2,3,4,5]\n",
    "wanted_number = 8\n",
    "\n",
    "wanted_number not in numbers"
   ]
  },
  {
   "cell_type": "code",
   "execution_count": 141,
   "id": "f2587da9-a3f6-49fd-8912-bb7ad304eb68",
   "metadata": {},
   "outputs": [
    {
     "data": {
      "text/plain": [
       "False"
      ]
     },
     "execution_count": 141,
     "metadata": {},
     "output_type": "execute_result"
    }
   ],
   "source": [
    "numbers = [1,2,3,4,5]\n",
    "wanted_number = 5\n",
    "\n",
    "wanted_number not in numbers"
   ]
  },
  {
   "cell_type": "code",
   "execution_count": null,
   "id": "a43c99b1-e941-4912-9a9f-6e986a3e942c",
   "metadata": {},
   "outputs": [],
   "source": []
  },
  {
   "cell_type": "code",
   "execution_count": null,
   "id": "449eddb4-4571-419c-8d49-2a0622f990f2",
   "metadata": {},
   "outputs": [],
   "source": []
  },
  {
   "cell_type": "code",
   "execution_count": null,
   "id": "cfc6c3cc-97ca-4688-8914-6dc75a69710b",
   "metadata": {},
   "outputs": [],
   "source": []
  }
 ],
 "metadata": {
  "kernelspec": {
   "display_name": "Python 3 (ipykernel)",
   "language": "python",
   "name": "python3"
  },
  "language_info": {
   "codemirror_mode": {
    "name": "ipython",
    "version": 3
   },
   "file_extension": ".py",
   "mimetype": "text/x-python",
   "name": "python",
   "nbconvert_exporter": "python",
   "pygments_lexer": "ipython3",
   "version": "3.12.7"
  }
 },
 "nbformat": 4,
 "nbformat_minor": 5
}
