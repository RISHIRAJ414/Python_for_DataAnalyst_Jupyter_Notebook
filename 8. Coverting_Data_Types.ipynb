{
 "cells": [
  {
   "cell_type": "code",
   "execution_count": null,
   "id": "6b721e7d-23e0-4438-b228-350f4f9c2d55",
   "metadata": {},
   "outputs": [],
   "source": [
    "##Converting Data Types##"
   ]
  },
  {
   "cell_type": "code",
   "execution_count": null,
   "id": "be05ecc9-c50f-4c00-ab40-0bdb6091aaf7",
   "metadata": {},
   "outputs": [],
   "source": [
    "#In Python, converting data types refers to changing the type of a variable or value from one type to another. \n",
    "#This process is also called typecasting. \n",
    "#Python provides built-in functions for this purpose.\n",
    "\n",
    "#Common Type Conversion Functions\n",
    "#Here are some commonly used data type conversion functions in Python:\n",
    "\n",
    "#1. Integer Conversion (int())\n",
    "# *Converts a value to an integer type.\n",
    "\n",
    "#     x = \"10\"   # String\n",
    "#     y = int(x) # Converts to Integer\n",
    "#     print(y)   # Output: 10\n",
    "\n",
    "#Notes:\n",
    "# *It truncates decimals when converting from float.\n",
    "# *Conversion fails if the string contains non-numeric characters.\n",
    "\n",
    "#2. Float Conversion (float())\n",
    "# *Converts a value to a floating-point type.\n",
    "\n",
    "#     x = \"3.14\"  # String\n",
    "#     y = float(x) # Converts to Float\n",
    "#     print(y)    # Output: 3.14\n",
    "\n",
    "#3. String Conversion (str())\n",
    "# *Converts a value to a string type.\n",
    "\n",
    "#     x = 123      # Integer\n",
    "#     y = str(x)   # Converts to String\n",
    "#     print(y)     # Output: \"123\"\n",
    "\n",
    "#4. Boolean Conversion (bool())\n",
    "# *Converts a value to a boolean type.\n",
    "\n",
    "#     x = 0      # Integer\n",
    "#     y = bool(x) # Converts to Boolean\n",
    "#     print(y)    # Output: False\n",
    "#Rules:\n",
    "# *0, None, \"\" (empty string), [] (empty list), and {} (empty dict) convert to False.\n",
    "# *All other values convert to True.\n",
    "\n",
    "#5. List Conversion (list())\n",
    "# *Converts a sequence or iterable (e.g., string, tuple) to a list.\n",
    "\n",
    "#     x = \"abc\"   # String\n",
    "#     y = list(x) # Converts to List\n",
    "#     print(y)    # Output: ['a', 'b', 'c']\n",
    "\n",
    "#6. Tuple Conversion (tuple())\n",
    "# *Converts a sequence or iterable to a tuple.\n",
    "\n",
    "#     x = [1, 2, 3] # List\n",
    "#     y = tuple(x)  # Converts to Tuple\n",
    "#     print(y)      # Output: (1, 2, 3)\n",
    "\n",
    "#7. Set Conversion (set())\n",
    "# *Converts a sequence or iterable to a set (removing duplicates).\n",
    "\n",
    "#     x = [1, 2, 2, 3] # List\n",
    "#     y = set(x)       # Converts to Set\n",
    "#     print(y)         # Output: {1, 2, 3}\n",
    "\n",
    "#8. Dictionary Conversion (dict())\n",
    "# *Converts a sequence of key-value pairs to a dictionary.\n",
    "\n",
    "#     x = [(\"a\", 1), (\"b\", 2)]   # List of tuples\n",
    "#     y = dict(x)               # Converts to Dictionary\n",
    "#     print(y)                  # Output: {'a': 1, 'b': 2}\n",
    "\n",
    "\n",
    "#Examples of Type Conversion\n",
    "\n",
    "# Implicit Conversion (done automatically)\n",
    "#     x = 10       # Integer\n",
    "#     y = 2.5      # Float\n",
    "#     z = x + y    # Converts x to float during addition\n",
    "#     print(z)     # Output: 12.5\n",
    "\n",
    "# Explicit Conversion (manual typecasting)\n",
    "#     a = \"100\"\n",
    "#     b = int(a)   # Converts string to integer\n",
    "#     print(b)     # Output: 100\n",
    "\n",
    "\n",
    "#Notes:\n",
    "# *Implicit Conversion: Python automatically converts one data type to another if needed (e.g., int to float during arithmetic).\n",
    "# *Explicit Conversion: Requires using the conversion functions explicitly"
   ]
  },
  {
   "cell_type": "code",
   "execution_count": 45,
   "id": "8222de15-0337-4593-9edd-3c9dbfa7c954",
   "metadata": {},
   "outputs": [
    {
     "name": "stdout",
     "output_type": "stream",
     "text": [
      "10\n"
     ]
    },
    {
     "data": {
      "text/plain": [
       "int"
      ]
     },
     "execution_count": 45,
     "metadata": {},
     "output_type": "execute_result"
    }
   ],
   "source": [
    "#1. Integer Conversion (int())\n",
    "# *Converts a value to an integer type.\n",
    "\n",
    "x = \"10\"   # String\n",
    "y = int(x) # Converts to Integer\n",
    "print(y)   # Output: 10\n",
    "type(y)"
   ]
  },
  {
   "cell_type": "code",
   "execution_count": null,
   "id": "bc255a28-c209-45af-9a1d-abf1b1d13260",
   "metadata": {},
   "outputs": [],
   "source": []
  },
  {
   "cell_type": "code",
   "execution_count": 43,
   "id": "2f215758-5dba-4e31-90ff-51d4949894ac",
   "metadata": {},
   "outputs": [
    {
     "name": "stdout",
     "output_type": "stream",
     "text": [
      "3.14\n"
     ]
    },
    {
     "data": {
      "text/plain": [
       "float"
      ]
     },
     "execution_count": 43,
     "metadata": {},
     "output_type": "execute_result"
    }
   ],
   "source": [
    "#2. Float Conversion (float())\n",
    "# *Converts a value to a floating-point type.\n",
    "\n",
    "x = \"3.14\"  # String\n",
    "y = float(x) # Converts to Float\n",
    "print(y)    # Output: 3.14\n",
    "type(y)"
   ]
  },
  {
   "cell_type": "code",
   "execution_count": null,
   "id": "1105bbac-775c-49b0-a65d-9e8066170ec6",
   "metadata": {},
   "outputs": [],
   "source": []
  },
  {
   "cell_type": "code",
   "execution_count": 47,
   "id": "d4aadbf5-60fc-4540-b401-505de5e60019",
   "metadata": {},
   "outputs": [
    {
     "name": "stdout",
     "output_type": "stream",
     "text": [
      "123\n"
     ]
    },
    {
     "data": {
      "text/plain": [
       "str"
      ]
     },
     "execution_count": 47,
     "metadata": {},
     "output_type": "execute_result"
    }
   ],
   "source": [
    "#3. String Conversion (str())\n",
    "# *Converts a value to a string type.\n",
    "\n",
    "x = 123      # Integer\n",
    "y = str(x)   # Converts to String\n",
    "print(y)     # Output: \"123\"\n",
    "type(y)"
   ]
  },
  {
   "cell_type": "code",
   "execution_count": null,
   "id": "e8c41458-54d4-4fd0-b311-1ee3e2cc2fb0",
   "metadata": {},
   "outputs": [],
   "source": []
  },
  {
   "cell_type": "code",
   "execution_count": 49,
   "id": "68c429f3-eee0-4af4-86ab-7d914ce963ff",
   "metadata": {},
   "outputs": [
    {
     "name": "stdout",
     "output_type": "stream",
     "text": [
      "False\n"
     ]
    },
    {
     "data": {
      "text/plain": [
       "bool"
      ]
     },
     "execution_count": 49,
     "metadata": {},
     "output_type": "execute_result"
    }
   ],
   "source": [
    "#4. Boolean Conversion (bool())\n",
    "# *Converts a value to a boolean type.\n",
    "\n",
    "x = 0      # Integer\n",
    "y = bool(x) # Converts to Boolean\n",
    "print(y)    # Output: False\n",
    "type(y)"
   ]
  },
  {
   "cell_type": "code",
   "execution_count": null,
   "id": "8f68dfc4-009a-4291-b22c-d7f8a010b26c",
   "metadata": {},
   "outputs": [],
   "source": []
  },
  {
   "cell_type": "code",
   "execution_count": 51,
   "id": "fd67a9df-7e44-40fe-8569-aa8eb4ff15a3",
   "metadata": {},
   "outputs": [
    {
     "name": "stdout",
     "output_type": "stream",
     "text": [
      "['a', 'b', 'c']\n"
     ]
    },
    {
     "data": {
      "text/plain": [
       "list"
      ]
     },
     "execution_count": 51,
     "metadata": {},
     "output_type": "execute_result"
    }
   ],
   "source": [
    "#5. List Conversion (list())\n",
    "# *Converts a sequence or iterable (e.g., string, tuple) to a list.\n",
    "\n",
    "x = \"abc\"   # String\n",
    "y = list(x) # Converts to List\n",
    "print(y)    # Output: ['a', 'b', 'c']\n",
    "type(y)"
   ]
  },
  {
   "cell_type": "code",
   "execution_count": null,
   "id": "e5b6ec3b-8892-4c72-ad4b-a51eae4212b0",
   "metadata": {},
   "outputs": [],
   "source": []
  },
  {
   "cell_type": "code",
   "execution_count": 53,
   "id": "7190a2ff-c0c5-4eaf-b56a-f95ab2d07c43",
   "metadata": {},
   "outputs": [
    {
     "name": "stdout",
     "output_type": "stream",
     "text": [
      "(1, 2, 3)\n"
     ]
    },
    {
     "data": {
      "text/plain": [
       "tuple"
      ]
     },
     "execution_count": 53,
     "metadata": {},
     "output_type": "execute_result"
    }
   ],
   "source": [
    "#6. Tuple Conversion (tuple())\n",
    "# *Converts a sequence or iterable to a tuple.\n",
    "\n",
    "x = [1, 2, 3] # List\n",
    "y = tuple(x)  # Converts to Tuple\n",
    "print(y)      # Output: (1, 2, 3)\n",
    "type(y)"
   ]
  },
  {
   "cell_type": "code",
   "execution_count": null,
   "id": "6fb19bf6-2d26-4be2-af43-297c077e5a65",
   "metadata": {},
   "outputs": [],
   "source": []
  },
  {
   "cell_type": "code",
   "execution_count": 59,
   "id": "c07aa9d5-7cbc-4908-89ad-21aee2e89fe8",
   "metadata": {},
   "outputs": [
    {
     "name": "stdout",
     "output_type": "stream",
     "text": [
      "{1, 2, 3}\n"
     ]
    },
    {
     "data": {
      "text/plain": [
       "set"
      ]
     },
     "execution_count": 59,
     "metadata": {},
     "output_type": "execute_result"
    }
   ],
   "source": [
    "#7. Set Conversion (set())\n",
    "# *Converts a sequence or iterable to a set (removing duplicates).\n",
    "\n",
    "x = [1, 2, 2, 3] # List\n",
    "y = set(x)       # Converts to Set\n",
    "print(y)         # Output: {1, 2, 3}\n",
    "type(y)\n",
    "#NOTE:Set takes only unique values from the list."
   ]
  },
  {
   "cell_type": "code",
   "execution_count": null,
   "id": "6a95386a-8507-4354-9957-40d5e26b473b",
   "metadata": {},
   "outputs": [],
   "source": []
  },
  {
   "cell_type": "code",
   "execution_count": 57,
   "id": "5c5a74e3-3793-45df-8b68-e19640d63e61",
   "metadata": {},
   "outputs": [
    {
     "name": "stdout",
     "output_type": "stream",
     "text": [
      "{'a': 1, 'b': 2}\n"
     ]
    },
    {
     "data": {
      "text/plain": [
       "dict"
      ]
     },
     "execution_count": 57,
     "metadata": {},
     "output_type": "execute_result"
    }
   ],
   "source": [
    "#8. Dictionary Conversion (dict())\n",
    "# *Converts a sequence of key-value pairs to a dictionary.\n",
    "\n",
    "x = [(\"a\", 1), (\"b\", 2)]   # List of tuples\n",
    "y = dict(x)               # Converts to Dictionary\n",
    "print(y)                  # Output: {'a': 1, 'b': 2}\n",
    "type(y)"
   ]
  },
  {
   "cell_type": "code",
   "execution_count": null,
   "id": "ada2034b-c589-4706-9db1-004d68aed816",
   "metadata": {},
   "outputs": [],
   "source": []
  },
  {
   "cell_type": "code",
   "execution_count": 19,
   "id": "3a305d8b-50a9-42ce-8490-1a17ac749cba",
   "metadata": {},
   "outputs": [
    {
     "data": {
      "text/plain": [
       "int"
      ]
     },
     "execution_count": 19,
     "metadata": {},
     "output_type": "execute_result"
    }
   ],
   "source": [
    "num_int = 7\n",
    "type(num_int)"
   ]
  },
  {
   "cell_type": "code",
   "execution_count": 21,
   "id": "2e36b884-4836-44e2-967f-9eda11b7d9ca",
   "metadata": {},
   "outputs": [
    {
     "data": {
      "text/plain": [
       "str"
      ]
     },
     "execution_count": 21,
     "metadata": {},
     "output_type": "execute_result"
    }
   ],
   "source": [
    "num_str = '7'\n",
    "type(num_str)"
   ]
  },
  {
   "cell_type": "code",
   "execution_count": 35,
   "id": "4e858191-6c51-4a1a-a81c-6a8e33bce1ab",
   "metadata": {},
   "outputs": [
    {
     "data": {
      "text/plain": [
       "int"
      ]
     },
     "execution_count": 35,
     "metadata": {},
     "output_type": "execute_result"
    }
   ],
   "source": [
    "num_str_converted = int(num_str) #Here we have converted 'num_str' into 'int' type to perform SUM. \n",
    "type(num_str_converted)"
   ]
  },
  {
   "cell_type": "code",
   "execution_count": 41,
   "id": "7a9319a3-7b92-4bba-8c04-882e32d86619",
   "metadata": {},
   "outputs": [
    {
     "name": "stdout",
     "output_type": "stream",
     "text": [
      "14\n"
     ]
    }
   ],
   "source": [
    "print(num_int + num_str_converted)"
   ]
  },
  {
   "cell_type": "code",
   "execution_count": null,
   "id": "fb3a9b40-6ef8-447b-820d-67bcb454eb99",
   "metadata": {},
   "outputs": [],
   "source": []
  },
  {
   "cell_type": "code",
   "execution_count": 65,
   "id": "69fed75e-213f-401e-8979-167a08164dbb",
   "metadata": {},
   "outputs": [
    {
     "data": {
      "text/plain": [
       "{' ', 'N', 'R', 'a', 'e', 'f', 'h', 'i', 'j', 'l', 'm', 's', 't', 'y'}"
      ]
     },
     "execution_count": 65,
     "metadata": {},
     "output_type": "execute_result"
    }
   ],
   "source": [
    "long_str = \"Namaste myself Rishi Raj\"\n",
    "set(long_str) #NOTE:Set takes only unique values from the list."
   ]
  },
  {
   "cell_type": "code",
   "execution_count": null,
   "id": "135aa725-9f3b-4433-b3d4-a5c98572fe3d",
   "metadata": {},
   "outputs": [],
   "source": []
  },
  {
   "cell_type": "code",
   "execution_count": null,
   "id": "6c47aa12-77ed-403d-a98e-3b0a13c216c3",
   "metadata": {},
   "outputs": [],
   "source": []
  }
 ],
 "metadata": {
  "kernelspec": {
   "display_name": "Python [conda env:base] *",
   "language": "python",
   "name": "conda-base-py"
  },
  "language_info": {
   "codemirror_mode": {
    "name": "ipython",
    "version": 3
   },
   "file_extension": ".py",
   "mimetype": "text/x-python",
   "name": "python",
   "nbconvert_exporter": "python",
   "pygments_lexer": "ipython3",
   "version": "3.12.7"
  }
 },
 "nbformat": 4,
 "nbformat_minor": 5
}
