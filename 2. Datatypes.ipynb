{
 "cells": [
  {
   "cell_type": "code",
   "execution_count": null,
   "id": "535e3a71-f8ae-4781-82a0-fb55c6fcfe9b",
   "metadata": {},
   "outputs": [],
   "source": [
    "## Data Types in Python ##"
   ]
  },
  {
   "cell_type": "code",
   "execution_count": null,
   "id": "2e0936d2-83bb-42d0-99bc-d4f41809ac0d",
   "metadata": {},
   "outputs": [],
   "source": [
    "#1.Numrical Data Types"
   ]
  },
  {
   "cell_type": "code",
   "execution_count": null,
   "id": "6c0499b4-aaee-4039-ac45-c5085e6afdf6",
   "metadata": {},
   "outputs": [],
   "source": [
    "\n",
    "#In Python, numerical data types are used to represent numbers. There are three main numerical data types:\n",
    "\n",
    "#1.int (Integer):\n",
    "# *Represents whole numbers without a decimal point.\n",
    "# *Example: x = 10\n",
    "\n",
    "#2.float (Floating-point number):\n",
    "# *Represents real numbers (i.e., numbers that can have a decimal point).\n",
    "# *Example: x = 3.14\n",
    "\n",
    "#3.complex (Complex number):\n",
    "# *Represents complex numbers, which have both a real and an imaginary part.\n",
    "# *The imaginary part is denoted with a suffix j or J.\n",
    "# *Example: x = 2 + 3j\n",
    "\n",
    "#These data types are essential for performing arithmetic and other numerical operations in Python.\n"
   ]
  },
  {
   "cell_type": "code",
   "execution_count": 12,
   "id": "e88fe658-913c-47f6-ab20-8054d6c4c42d",
   "metadata": {},
   "outputs": [
    {
     "data": {
      "text/plain": [
       "int"
      ]
     },
     "execution_count": 12,
     "metadata": {},
     "output_type": "execute_result"
    }
   ],
   "source": [
    "type(12) # Positive Value"
   ]
  },
  {
   "cell_type": "code",
   "execution_count": 14,
   "id": "5ee63bfa-4173-431e-94f7-334e6493b938",
   "metadata": {},
   "outputs": [
    {
     "data": {
      "text/plain": [
       "int"
      ]
     },
     "execution_count": 14,
     "metadata": {},
     "output_type": "execute_result"
    }
   ],
   "source": [
    "type(-12) # Negative Value"
   ]
  },
  {
   "cell_type": "code",
   "execution_count": 16,
   "id": "93386789-fcbc-4c94-ac43-b8bb09321b4e",
   "metadata": {},
   "outputs": [
    {
     "data": {
      "text/plain": [
       "int"
      ]
     },
     "execution_count": 16,
     "metadata": {},
     "output_type": "execute_result"
    }
   ],
   "source": [
    "type(-12+20) # Operational Value"
   ]
  },
  {
   "cell_type": "code",
   "execution_count": 22,
   "id": "578afe82-1226-49bb-a35e-5c21c2a0506c",
   "metadata": {},
   "outputs": [
    {
     "data": {
      "text/plain": [
       "float"
      ]
     },
     "execution_count": 22,
     "metadata": {},
     "output_type": "execute_result"
    }
   ],
   "source": [
    "type(-12+20.5) # Float(Decimal) Value"
   ]
  },
  {
   "cell_type": "code",
   "execution_count": 184,
   "id": "d5b9957f-da72-450f-8d4c-8c3801ad9f11",
   "metadata": {},
   "outputs": [
    {
     "data": {
      "text/plain": [
       "complex"
      ]
     },
     "execution_count": 184,
     "metadata": {},
     "output_type": "execute_result"
    }
   ],
   "source": [
    "type(-12+20.5j) # Complex Value ( NOTE:Only 'j' or 'J' character can only be used as a suffix in imaginary number."
   ]
  },
  {
   "cell_type": "code",
   "execution_count": null,
   "id": "c9f7d9a9-3901-48ef-bbe6-c0c153ed70c0",
   "metadata": {},
   "outputs": [],
   "source": []
  },
  {
   "cell_type": "code",
   "execution_count": null,
   "id": "a66060d1-ac99-43b8-9ecc-c903405c3acf",
   "metadata": {},
   "outputs": [],
   "source": []
  },
  {
   "cell_type": "code",
   "execution_count": null,
   "id": "15c65d0d-6e8a-46fa-92ac-144e2d470790",
   "metadata": {},
   "outputs": [],
   "source": [
    "#2.Boolean Data Types (True or False)"
   ]
  },
  {
   "cell_type": "code",
   "execution_count": null,
   "id": "c5505dea-2046-43a0-97a0-0a90d9c02d80",
   "metadata": {},
   "outputs": [],
   "source": [
    "\n",
    "#In Python, the Boolean data type is used to represent one of two values: True or False. \n",
    "#These are the two possible values for a Boolean variable, and they are often used in conditional statements, loops, and logical operations.\n",
    "\n",
    "#Key Points:\n",
    "# *True and False: These are the only two valid values of the Boolean type. They are case-sensitive, so True and False must be capitalized.\n",
    "\n",
    "# *Boolean Operations: You can use Boolean values with logical operators like:\n",
    "#   1.and (returns True if both operands are True)\n",
    "#   2.or (returns True if at least one operand is True)\n",
    "#   3.not (returns the inverse Boolean value)\n",
    "\n",
    "# *Conversion to Boolean: Any data type in Python can be converted to a Boolean. Here's how:\n",
    "#  -Values like None, 0, False, and empty sequences ('', [], {}) are considered False.\n",
    "#  -Other values are considered True.\n"
   ]
  },
  {
   "cell_type": "code",
   "execution_count": 26,
   "id": "c7e63730-5deb-46af-a6c8-44b4484265d6",
   "metadata": {},
   "outputs": [
    {
     "data": {
      "text/plain": [
       "bool"
      ]
     },
     "execution_count": 26,
     "metadata": {},
     "output_type": "execute_result"
    }
   ],
   "source": [
    "type(True)"
   ]
  },
  {
   "cell_type": "code",
   "execution_count": 28,
   "id": "7cadc535-47c9-4019-855d-f105430b4f2b",
   "metadata": {},
   "outputs": [
    {
     "data": {
      "text/plain": [
       "bool"
      ]
     },
     "execution_count": 28,
     "metadata": {},
     "output_type": "execute_result"
    }
   ],
   "source": [
    "type(False)"
   ]
  },
  {
   "cell_type": "code",
   "execution_count": 30,
   "id": "f3bd74f4-9c28-4148-9e7d-14c4e03a9c36",
   "metadata": {},
   "outputs": [
    {
     "data": {
      "text/plain": [
       "bool"
      ]
     },
     "execution_count": 30,
     "metadata": {},
     "output_type": "execute_result"
    }
   ],
   "source": [
    "type(1>5)#Used for Operation or Comparison.etc"
   ]
  },
  {
   "cell_type": "code",
   "execution_count": 32,
   "id": "560f5aa7-0efc-49d6-95af-ba623447be79",
   "metadata": {},
   "outputs": [
    {
     "data": {
      "text/plain": [
       "False"
      ]
     },
     "execution_count": 32,
     "metadata": {},
     "output_type": "execute_result"
    }
   ],
   "source": [
    "1>5 #Case 1"
   ]
  },
  {
   "cell_type": "code",
   "execution_count": 34,
   "id": "477e4fdd-bb48-47b4-a454-f700499eed34",
   "metadata": {},
   "outputs": [
    {
     "data": {
      "text/plain": [
       "True"
      ]
     },
     "execution_count": 34,
     "metadata": {},
     "output_type": "execute_result"
    }
   ],
   "source": [
    "1 == 1 #Case 2"
   ]
  },
  {
   "cell_type": "code",
   "execution_count": null,
   "id": "e9c799bb-3ff4-456e-a080-e5823add5552",
   "metadata": {},
   "outputs": [],
   "source": []
  },
  {
   "cell_type": "code",
   "execution_count": null,
   "id": "85c260fc-97e1-49dc-b961-a157aadff0e1",
   "metadata": {},
   "outputs": [],
   "source": []
  },
  {
   "cell_type": "code",
   "execution_count": 38,
   "id": "c8901a9b-7e67-4c21-bb31-930145145b47",
   "metadata": {},
   "outputs": [],
   "source": [
    "#3.Sequence Data Types(  Lists, Tuples, Strings, Ranges, Sets) "
   ]
  },
  {
   "cell_type": "code",
   "execution_count": null,
   "id": "bdd3d3c0-aad1-421d-8f7e-9e1a92e0ff40",
   "metadata": {},
   "outputs": [],
   "source": [
    "#In Python, sequence data types are used to store multiple items in a single variable. \n",
    "#These types allow you to store and manage ordered collections of elements, where each element can be accessed by its index. \n",
    "#The main sequence data types in Python are:\n",
    "#1.List:\n",
    "# *A list is an ordered, mutable (changeable) collection of items.\n",
    "# *Lists can hold elements of different types.\n",
    "# *Syntax: my_list = [1, 2, 3, 'a', 3.14]\n",
    "\n",
    "#2.Tuple:\n",
    "# *A tuple is similar to a list but is immutable (cannot be changed after creation).\n",
    "# *Tuples are ordered and can hold elements of different types.\n",
    "# *Syntax: my_tuple = (1, 2, 3, 'a', 3.14)\n",
    "\n",
    "#3.String:\n",
    "# *A string is a sequence of characters (text).\n",
    "# *Strings are immutable.\n",
    "# *Syntax: my_string = \"Hello, World!\"\n",
    "\n",
    "#4.Range:\n",
    "# *A range is an immutable sequence of numbers, commonly used in loops.\n",
    "# *Syntax: my_range = range(0, 10)\n",
    "\n",
    "#5.Sets:\n",
    "# *#In Python, a set is a built-in data type that represents an Unordered collection of unique elements.\n",
    "# *Unlike lists or tuples, sets Do Not Allow Duplicate Values.\n",
    "# *Syntax: my_set = {1,2,3,3,4}\n",
    "\n",
    "#Key Properties of Sequence Data Types:\n",
    "# *Ordered: The order of elements is preserved.\n",
    "# *Indexable: Elements can be accessed using an index (starting from 0).\n",
    "# *Iterable: These types can be iterated over in loops.\n",
    "# *These sequence types allow for various operations, such as slicing, concatenation, and repetition.\n"
   ]
  },
  {
   "cell_type": "code",
   "execution_count": null,
   "id": "4a457897-be8d-4914-9c4d-62b4f27ab47b",
   "metadata": {},
   "outputs": [],
   "source": [
    "#3.Sequence Data Types(---Strings---)"
   ]
  },
  {
   "cell_type": "code",
   "execution_count": null,
   "id": "09185ab5-9060-4c1e-98ec-91cad8af440b",
   "metadata": {},
   "outputs": [],
   "source": [
    "\n",
    "#In Python, a string is a sequence of characters enclosed in either single quotes (') or double quotes (\"). \n",
    "#Strings can contain letters, numbers, symbols, and whitespace. \n",
    "#They are one of the most common data types in Python, used for working with text.\n",
    "\n",
    "#String operations:\n",
    "# *Concatenation: You can combine strings using the + operator.\n",
    "# *Repetition: You can repeat strings using the * operator.\n",
    "# *Length: You can get the length of a string using len().\n",
    "# *Indexing and slicing: Strings are indexed, starting from 0. You can access characters using square brackets and an index.\n",
    "# *Methods: Strings have several built-in methods like lower(), upper(), replace(), split(), etc.\n"
   ]
  },
  {
   "cell_type": "code",
   "execution_count": 76,
   "id": "40a0f184-b4f8-48de-ae45-ea03a3f1827e",
   "metadata": {},
   "outputs": [
    {
     "data": {
      "text/plain": [
       "'Single Quote'"
      ]
     },
     "execution_count": 76,
     "metadata": {},
     "output_type": "execute_result"
    }
   ],
   "source": [
    "'Single Quote'"
   ]
  },
  {
   "cell_type": "code",
   "execution_count": 72,
   "id": "0da546fc-e21f-4998-afd7-20659f065c46",
   "metadata": {},
   "outputs": [
    {
     "data": {
      "text/plain": [
       "'Double Quote'"
      ]
     },
     "execution_count": 72,
     "metadata": {},
     "output_type": "execute_result"
    }
   ],
   "source": [
    "\"Double Quote\" "
   ]
  },
  {
   "cell_type": "code",
   "execution_count": 78,
   "id": "00f4e8cd-236b-44d4-9040-7969d3fcd26e",
   "metadata": {},
   "outputs": [],
   "source": [
    "triple_double_quote = \"\"\" #Also known as Multi-line which can include Double Quotes also.\n",
    "\n",
    "Triple Double Quote \n",
    "Used for writing \n",
    "Multiples lines .\n",
    "\n",
    "\"\"\""
   ]
  },
  {
   "cell_type": "code",
   "execution_count": 48,
   "id": "fcdd43e9-e4f7-4c24-be33-a5c16f51dd31",
   "metadata": {},
   "outputs": [
    {
     "name": "stdout",
     "output_type": "stream",
     "text": [
      " \n",
      "\n",
      "Triple Double Quote \n",
      "Used for writing \n",
      "Multiples lines .\n",
      "\n",
      "\n"
     ]
    }
   ],
   "source": [
    "print (triple_double_quote)"
   ]
  },
  {
   "cell_type": "code",
   "execution_count": 62,
   "id": "54070c0c-3653-413a-a791-7662c04634f2",
   "metadata": {},
   "outputs": [
    {
     "data": {
      "text/plain": [
       "\" I'll always do 1% percent improvement in me  each and everyday, no matter what \""
      ]
     },
     "execution_count": 62,
     "metadata": {},
     "output_type": "execute_result"
    }
   ],
   "source": [
    "#Use of Double Quote\n",
    "# Double Quote is used to prevent syntax error if we have a single ( ' ) quote in the sentence or string.\n",
    "\" I'll always do 1% percent improvement in me  each and everyday, no matter what \""
   ]
  },
  {
   "cell_type": "code",
   "execution_count": 64,
   "id": "fd25d11d-757b-4d50-847c-b335fc48e054",
   "metadata": {},
   "outputs": [
    {
     "data": {
      "text/plain": [
       "' He said \"I\\'ll always do 1% percent improvement in me each and everyday , no matter what\". '"
      ]
     },
     "execution_count": 64,
     "metadata": {},
     "output_type": "execute_result"
    }
   ],
   "source": [
    "#Use of Triple Double Quote\n",
    "# Triple Double Quote is used to prevent syntax error if we have a double ( \" ) quote in the sentence or string.\n",
    "\"\"\" He said \"I'll always do 1% percent improvement in me each and everyday , no matter what\". \"\"\""
   ]
  },
  {
   "cell_type": "code",
   "execution_count": 66,
   "id": "b46c043b-ec56-4b43-9a04-37ee23e3ee3a",
   "metadata": {},
   "outputs": [
    {
     "name": "stdout",
     "output_type": "stream",
     "text": [
      " He said \"I'll always do 1% percent improvement in me  each and everyday , no matter what\". \n"
     ]
    }
   ],
   "source": [
    "triple_double_quote = \"\"\" He said \"I'll always do 1% percent improvement in me  each and everyday , no matter what\". \"\"\"\n",
    "print (triple_double_quote)"
   ]
  },
  {
   "cell_type": "code",
   "execution_count": null,
   "id": "9e568071-40f3-4461-a533-61ab7bfc8d61",
   "metadata": {},
   "outputs": [],
   "source": []
  },
  {
   "cell_type": "code",
   "execution_count": null,
   "id": "046c2063-3a59-4cf4-96b6-d7f533853d6f",
   "metadata": {},
   "outputs": [],
   "source": [
    "##Searching String with INDEX"
   ]
  },
  {
   "cell_type": "code",
   "execution_count": null,
   "id": "f60a4c45-a4d5-4880-bc41-372b60fb1ecb",
   "metadata": {},
   "outputs": [],
   "source": [
    "#NOTE : String Indexing starts with 0 .\n",
    "#Just give a glance to every code below you will understand it very easily:\n"
   ]
  },
  {
   "cell_type": "code",
   "execution_count": 102,
   "id": "8bdc2fc8-f961-4137-b6d6-ead892f4317b",
   "metadata": {},
   "outputs": [
    {
     "name": "stdout",
     "output_type": "stream",
     "text": [
      "t\n"
     ]
    }
   ],
   "source": [
    "a = 'Namaste to Everyone'\n",
    "print (a[5])      #5th Position character. (NOTE:Index starts from 0) \n",
    "\n",
    "#Explanation:\n",
    "\n",
    "#a = 'Namaste to Everyone': This creates a string variable a and assigns it the value 'Namaste to Everyone'.\n",
    "#a[5]: The square brackets ([]) are used to access specific characters in the string a. Strings in Python are zero-indexed, which means indexing starts at 0.\n",
    "\n",
    "#   a[0] is 'N'\n",
    "#   a[1] is 'a'\n",
    "#   a[2] is 'm'\n",
    "#   a[3] is 'a'\n",
    "#   a[4] is 's'\n",
    "#   a[5] is 't'\n",
    "#   print(a[5]): This will output the 6th character of the string (as indexing starts from 0), which is 't'.\n"
   ]
  },
  {
   "cell_type": "code",
   "execution_count": 118,
   "id": "d4bf7fae-7d13-49c3-8db0-3e8c602f0d9e",
   "metadata": {},
   "outputs": [
    {
     "name": "stdout",
     "output_type": "stream",
     "text": [
      "Namas\n"
     ]
    }
   ],
   "source": [
    "a = 'Namaste to Everyone'\n",
    "print (a[:5])    #Including 0 and return the word that comes before the 5th character.\n",
    "                 # ':' is used for slicing."
   ]
  },
  {
   "cell_type": "code",
   "execution_count": 122,
   "id": "df59b1fe-2db6-4701-97d7-70f1cf4cbe94",
   "metadata": {},
   "outputs": [
    {
     "name": "stdout",
     "output_type": "stream",
     "text": [
      "te to Everyone\n"
     ]
    }
   ],
   "source": [
    "a = 'Namaste to Everyone'\n",
    "print (a[5:])           #Returning Everything after 5th and including 5th also becuase because ':' semi-colon sign is after the Character Index value."
   ]
  },
  {
   "cell_type": "code",
   "execution_count": 116,
   "id": "ac31f25a-070a-4bf5-9307-a4e4c67038c5",
   "metadata": {},
   "outputs": [
    {
     "name": "stdout",
     "output_type": "stream",
     "text": [
      "r\n"
     ]
    }
   ],
   "source": [
    "a = 'Namaste to Everyone'\n",
    "print (a[-5])              #In negative sign Indexing starts from Reverse[-1]. \n",
    "                           #Negative Indexing:\n",
    "                           #* a[-1] refers to the last character of the string.\n",
    "                           #* a[-2] refers to the second-to-last character, and so on.\n",
    "                          "
   ]
  },
  {
   "cell_type": "code",
   "execution_count": 124,
   "id": "24b07fc1-c654-4b1f-b70e-f84941355ac5",
   "metadata": {},
   "outputs": [
    {
     "name": "stdout",
     "output_type": "stream",
     "text": [
      "Namaste to Eve\n"
     ]
    }
   ],
   "source": [
    "a = 'Namaste to Everyone'\n",
    "print (a[:-5])          #Will exclude till the 5th character from reverse[-5] because ':' semi-colon sign is before the Character Index value.\n",
    "                        #NOTE :  #In negative sign Indexing starts from Reverse[-1]. "
   ]
  },
  {
   "cell_type": "code",
   "execution_count": 126,
   "id": "b9de6ba2-6d9f-464a-984f-e040e11b277e",
   "metadata": {},
   "outputs": [
    {
     "name": "stdout",
     "output_type": "stream",
     "text": [
      "ryone\n"
     ]
    }
   ],
   "source": [
    "a = 'Namaste to Everyone'\n",
    "print (a[-5:])           #Since ':' semi-colon sign is after the Character Index value therefore, it will include the 5th character form Reverse.\n",
    "\n",
    "#Explanation:\n",
    "# 1.Negative Indexing:\n",
    "# *Negative indices count from the end of the string.\n",
    "# *a[-5] corresponds to 'r' (the 5th character from the end).\n",
    "\n",
    "# 2.Slicing Syntax:\n",
    "# *a[-5:] means \"start from the character at index -5 and include all characters to the end of the string\".\n"
   ]
  },
  {
   "cell_type": "code",
   "execution_count": 106,
   "id": "c8b0847c-a75b-4a07-9866-d89a0d373195",
   "metadata": {},
   "outputs": [
    {
     "name": "stdout",
     "output_type": "stream",
     "text": [
      "mas\n"
     ]
    }
   ],
   "source": [
    "a = 'Namaste to Everyone'\n",
    "print (a[2:5])              #Character 2nd -to- 5th (NOTE:Index starts from 0) \n",
    "                            #Explanation:\n",
    "                            #*Slicing Syntax:\n",
    "                            # a[2:5] extracts characters from index 2 (inclusive) to 5 (exclusive).\n",
    "                            # The slice includes the characters at positions 2, 3, and 4."
   ]
  },
  {
   "cell_type": "code",
   "execution_count": null,
   "id": "dc22e5f8-a18f-4c9b-b537-23e151331b95",
   "metadata": {},
   "outputs": [],
   "source": []
  },
  {
   "cell_type": "code",
   "execution_count": null,
   "id": "3757236c-7272-4ca3-a210-276f45ff04b1",
   "metadata": {},
   "outputs": [],
   "source": [
    "#Arithmetic Operation in string"
   ]
  },
  {
   "cell_type": "code",
   "execution_count": 128,
   "id": "a4992c38-835d-47de-b670-1bc8b497337d",
   "metadata": {},
   "outputs": [
    {
     "data": {
      "text/plain": [
       "'Namaste to EveryoneNamaste to EveryoneNamaste to Everyone'"
      ]
     },
     "execution_count": 128,
     "metadata": {},
     "output_type": "execute_result"
    }
   ],
   "source": [
    "a*3"
   ]
  },
  {
   "cell_type": "code",
   "execution_count": 130,
   "id": "409342f4-f71e-460f-ba89-17cdd63239b6",
   "metadata": {},
   "outputs": [
    {
     "data": {
      "text/plain": [
       "'Namaste to EveryoneNamaste to Everyone'"
      ]
     },
     "execution_count": 130,
     "metadata": {},
     "output_type": "execute_result"
    }
   ],
   "source": [
    "a + a"
   ]
  },
  {
   "cell_type": "code",
   "execution_count": null,
   "id": "57e8ec40-6c52-4933-a225-342344dc78c8",
   "metadata": {},
   "outputs": [],
   "source": []
  },
  {
   "cell_type": "code",
   "execution_count": null,
   "id": "4adcb6cc-904a-4239-a3c5-023e075f63bf",
   "metadata": {},
   "outputs": [],
   "source": [
    "#3.Sequence Data Types(---List---)"
   ]
  },
  {
   "cell_type": "code",
   "execution_count": null,
   "id": "42324155-77ad-477c-8d53-04b47a3c0e6c",
   "metadata": {},
   "outputs": [],
   "source": [
    "\n",
    "#In Python, a list is a collection of items that is ordered, changeable (mutable), and allows duplicate elements. \n",
    "#Lists are one of the most commonly used data structures in Python because of their flexibility and ease of use.\n",
    "\n",
    "#Key Features of Lists:\n",
    "# *Ordered: The items in a list have a defined order, and the order will not change unless explicitly modified.\n",
    "# *Mutable: You can change, add, or remove elements after the list is created.\n",
    "# *Allows Duplicates: Lists can have multiple instances of the same element.\n",
    "# *Can Contain Any Data Type: Lists can hold elements of different data types (e.g., integers, strings, or other lists).\n"
   ]
  },
  {
   "cell_type": "code",
   "execution_count": 134,
   "id": "dc61fbb7-4a8b-462c-b7fa-fb9170a99957",
   "metadata": {},
   "outputs": [
    {
     "data": {
      "text/plain": [
       "[1, 2, 3, 4, 5]"
      ]
     },
     "execution_count": 134,
     "metadata": {},
     "output_type": "execute_result"
    }
   ],
   "source": [
    "[1,2,3,4,5]   #',' separates and shows that they are different values.\n",
    "              # It has same Indexing Method as the String (Indexing starts from [0] and in Reverse Indexing starts from [1] or [-1]"
   ]
  },
  {
   "cell_type": "code",
   "execution_count": 136,
   "id": "b57270e3-5a5f-4e92-bb21-0f2ad7975948",
   "metadata": {},
   "outputs": [
    {
     "data": {
      "text/plain": [
       "['Apple', 'Banana', 'Mango']"
      ]
     },
     "execution_count": 136,
     "metadata": {},
     "output_type": "execute_result"
    }
   ],
   "source": [
    "['Apple','Banana','Mango']"
   ]
  },
  {
   "cell_type": "code",
   "execution_count": 138,
   "id": "84fb9d7e-0d50-4067-9f9e-90c354f7996c",
   "metadata": {},
   "outputs": [
    {
     "data": {
      "text/plain": [
       "['Apple', 'Banana', [1, 2, 3, 4, 5], True]"
      ]
     },
     "execution_count": 138,
     "metadata": {},
     "output_type": "execute_result"
    }
   ],
   "source": [
    "['Apple','Banana',[1,2,3,4,5] , True ]   #ADVANTAGE: Different data types can be used in a single list and Nested List option is also available."
   ]
  },
  {
   "cell_type": "code",
   "execution_count": 146,
   "id": "50ecef0e-e2c0-40d9-ac2f-bc61b583105e",
   "metadata": {},
   "outputs": [
    {
     "data": {
      "text/plain": [
       "['Apple', 'Banana', 'Mango', 'Grapes']"
      ]
     },
     "execution_count": 146,
     "metadata": {},
     "output_type": "execute_result"
    }
   ],
   "source": [
    "fruits_name = ['Apple','Banana','Mango']\n",
    "fruits_name.append ('Grapes')           #ADVANTAGE: We can also change or update the data,values or elements in the list even when time for calling.\n",
    "fruits_name"
   ]
  },
  {
   "cell_type": "code",
   "execution_count": 152,
   "id": "db2f7570-005e-4e9b-b941-50fa3f1792db",
   "metadata": {},
   "outputs": [
    {
     "data": {
      "text/plain": [
       "['Pineapple', 'Banana', 'Mango', 'Grapes']"
      ]
     },
     "execution_count": 152,
     "metadata": {},
     "output_type": "execute_result"
    }
   ],
   "source": [
    "fruits_name [0] = 'Pineapple'#ADVANTAGE: We can change or update the elements of the list Even by the Particular Index.\n",
    "fruits_name               # Here we have replaced the Index [0] element which was'Apple' to the Assigned Element at fruits_name [0] which is 'Pineapple'"
   ]
  },
  {
   "cell_type": "code",
   "execution_count": 156,
   "id": "b2c774b0-33ee-4212-8634-4cba0942d28b",
   "metadata": {},
   "outputs": [
    {
     "data": {
      "text/plain": [
       "[1, 2, 3, 4, 5]"
      ]
     },
     "execution_count": 156,
     "metadata": {},
     "output_type": "execute_result"
    }
   ],
   "source": [
    "nested_list = ['Apple','Banana',[1,2,3,4,5] , True ] \n",
    "nested_list [2]"
   ]
  },
  {
   "cell_type": "code",
   "execution_count": 182,
   "id": "9f02a765-42f9-49f7-b2a1-2112f3475bdd",
   "metadata": {},
   "outputs": [
    {
     "data": {
      "text/plain": [
       "4"
      ]
     },
     "execution_count": 182,
     "metadata": {},
     "output_type": "execute_result"
    }
   ],
   "source": [
    "nested_list = ['Apple','Banana',[1,2,3,4,5] , True ] \n",
    "nested_list [2][3]    #Here we get the 3rd Index Element '4' of the 2nd Index Element that is [1,2,3,4,5]. NOTE:Indexing starts from [0].\n",
    "#Perform trial and check here and guess the result for better understanding (Practise Here)"
   ]
  },
  {
   "cell_type": "code",
   "execution_count": 180,
   "id": "f569a76d-9182-449b-912c-4ee2f9757645",
   "metadata": {},
   "outputs": [
    {
     "data": {
      "text/plain": [
       "(4, ['Rishi', 'Raj'])"
      ]
     },
     "execution_count": 180,
     "metadata": {},
     "output_type": "execute_result"
    }
   ],
   "source": [
    "nested_list = ['Apple','Banana',[1,2,3,4,5] , True ] \n",
    "nested_list [2][3],['Rishi','Raj']     #Here we have added one more list to the result(output) that is  ['Rishi', 'Raj'].\n",
    "#Perform trial and check here and guess the result for better understanding (Practise Here)"
   ]
  },
  {
   "cell_type": "code",
   "execution_count": 176,
   "id": "384b46b0-c344-4745-b0c0-4b2d0c5cdd2b",
   "metadata": {},
   "outputs": [
    {
     "data": {
      "text/plain": [
       "'a'"
      ]
     },
     "execution_count": 176,
     "metadata": {},
     "output_type": "execute_result"
    }
   ],
   "source": [
    "nested_list = ['Apple','Banana',[1,2,3,4,5] , True ] \n",
    "nested_list [1][3]    #Here we get the 3rd Index element 'a' of the 1st Index element 'Banana'. \n",
    "#Perform trial and check here and guess the result for better understanding (Practise Here)"
   ]
  },
  {
   "cell_type": "code",
   "execution_count": null,
   "id": "617355de-f634-473e-b58a-757a5e7b2489",
   "metadata": {},
   "outputs": [],
   "source": []
  },
  {
   "cell_type": "code",
   "execution_count": null,
   "id": "79365333-ead4-4487-a4d6-5ebe199a97c6",
   "metadata": {},
   "outputs": [],
   "source": []
  },
  {
   "cell_type": "code",
   "execution_count": null,
   "id": "2e54a9c7-2732-4351-a43e-c04c1f9b0faf",
   "metadata": {},
   "outputs": [],
   "source": [
    "#3.Sequence Data Types(---Tuples---)"
   ]
  },
  {
   "cell_type": "code",
   "execution_count": null,
   "id": "8ab40a07-1e1b-4b35-9b0b-24a8c3cbebec",
   "metadata": {},
   "outputs": [],
   "source": [
    "\n",
    "#In Python, a tuple is a collection data type that is ordered and immutable (unchangeable). \n",
    "#Tuples are similar to lists, but unlike lists, once a tuple is created, Its Elements Cannot be Modified, Added(append), or Removed. \n",
    "#Tuples are commonly used to store multiple items in a single variable.\n",
    "#Used for Examples like location,country name,city ,etc. Which do not need to change.\n",
    "\n",
    "#Key Characteristics of Tuples:\n",
    "# *Ordered: The elements in a tuple have a specific order. This means the elements can be accessed using an index.\n",
    "# *Immutable: Once a tuple is created, it cannot be changed. This means no item can be added, removed, or modified.\n",
    "# *Allow duplicates: Tuples can have multiple identical elements.\n",
    "# *Can store mixed data types: A tuple can store items of different data types, such as integers, strings, and other tuples.\n"
   ]
  },
  {
   "cell_type": "code",
   "execution_count": 204,
   "id": "70ec8ccd-ed53-4537-954c-defcd4b15991",
   "metadata": {},
   "outputs": [],
   "source": [
    "tuple_demo = (1,2,3,4,3,2,1)"
   ]
  },
  {
   "cell_type": "code",
   "execution_count": 206,
   "id": "5e713a62-714b-4ed3-897a-37c47e6f4fce",
   "metadata": {},
   "outputs": [
    {
     "data": {
      "text/plain": [
       "tuple"
      ]
     },
     "execution_count": 206,
     "metadata": {},
     "output_type": "execute_result"
    }
   ],
   "source": [
    "type(tuple_demo)"
   ]
  },
  {
   "cell_type": "code",
   "execution_count": 208,
   "id": "a5ab28b4-2038-4ca3-baad-aa4f3abc50ed",
   "metadata": {},
   "outputs": [
    {
     "data": {
      "text/plain": [
       "3"
      ]
     },
     "execution_count": 208,
     "metadata": {},
     "output_type": "execute_result"
    }
   ],
   "source": [
    "tuple_demo[2]"
   ]
  },
  {
   "cell_type": "code",
   "execution_count": null,
   "id": "56f7f2df-443c-4fb9-87a3-0b7507ae004b",
   "metadata": {},
   "outputs": [],
   "source": []
  },
  {
   "cell_type": "code",
   "execution_count": null,
   "id": "d023874c-6742-4a33-862f-0071fab1a7b1",
   "metadata": {},
   "outputs": [],
   "source": []
  },
  {
   "cell_type": "code",
   "execution_count": null,
   "id": "1359285d-1c6c-49f5-bfca-17cba5861933",
   "metadata": {},
   "outputs": [],
   "source": [
    "#3.Sequence Data Types(---Sets---)"
   ]
  },
  {
   "cell_type": "code",
   "execution_count": null,
   "id": "8a28bd6c-c93d-4a4e-ad0c-78859241150d",
   "metadata": {},
   "outputs": [],
   "source": [
    "\n",
    "#In Python, a set is a built-in data type that represents an Unordered collection of unique elements.\n",
    "#Unlike lists or tuples, sets Do Not Allow Duplicate Values. \n",
    "#Sets are useful for operations like membership testing, removing duplicates from a collection, \n",
    "# and performing mathematical set operations (union, intersection, difference, etc.).\n",
    "\n",
    "#Key Characteristics of Sets:\n",
    "# *Unordered: The elements in a set have no specific order.\n",
    "# *Unique: A set does not contain duplicate values. If you try to add a duplicate item, it will be ignored.\n",
    "# *Mutable: You can add or remove elements from a set.\n",
    "# *Supports set operations: You can perform operations like union, intersection, difference, etc.\n",
    "\n",
    "#Common Set Operations:\n",
    "# *Add an element: set.add(element)\n",
    "# *Remove an element:set.remove(element)(raises KeyError if element not found) or set.discard(element) (does not raise an error if element is not found)\n",
    "# *Set Union: set1 | set2 or set1.union(set2)\n",
    "# *Set Intersection: set1 & set2 or set1.intersection(set2)\n",
    "# *Set Difference: set1 - set2 or set1.difference(set2)\n",
    "# *Set Symmetric Difference: set1 ^ set2 or set1.symmetric_difference(set2)\n",
    "# *Sets are highly efficient for membership tests and are commonly used for removing duplicates and performing set-based operations.\n"
   ]
  },
  {
   "cell_type": "code",
   "execution_count": 10,
   "id": "2951297d-15a4-4389-9591-8b0a66fdbd51",
   "metadata": {},
   "outputs": [],
   "source": [
    "set_example = {1234}  #Curly Brackets are used."
   ]
  },
  {
   "cell_type": "code",
   "execution_count": 6,
   "id": "95dcb945-f750-495d-b636-cfd137ab3f94",
   "metadata": {},
   "outputs": [
    {
     "name": "stdout",
     "output_type": "stream",
     "text": [
      "{1234}\n"
     ]
    }
   ],
   "source": [
    "print (set_example)"
   ]
  },
  {
   "cell_type": "code",
   "execution_count": 8,
   "id": "fc7ad20c-acee-41e7-9c80-fd0581b08f32",
   "metadata": {},
   "outputs": [
    {
     "data": {
      "text/plain": [
       "set"
      ]
     },
     "execution_count": 8,
     "metadata": {},
     "output_type": "execute_result"
    }
   ],
   "source": [
    "type(set_example)"
   ]
  },
  {
   "cell_type": "code",
   "execution_count": 18,
   "id": "25f9bda3-e780-4eee-b52d-aeaa9b709649",
   "metadata": {},
   "outputs": [
    {
     "name": "stdout",
     "output_type": "stream",
     "text": [
      "{64, 1, 2, 3, 4, 5, 0, 6, 8, 9, 98, 45, 55, 89, 57}\n"
     ]
    }
   ],
   "source": [
    "set_duplicates1 = {1,2,3,2,4,5,4,5,64,55,3,9,9,89,0,2,6,8,98,57,45}\n",
    "\n",
    "print(set_duplicates)    #Here sets will provide only Unique Values as per it,s character."
   ]
  },
  {
   "cell_type": "code",
   "execution_count": null,
   "id": "00c8f595-d4b1-408c-a19a-5828e2f8dd51",
   "metadata": {},
   "outputs": [],
   "source": []
  },
  {
   "cell_type": "code",
   "execution_count": null,
   "id": "262826be-dc73-4a11-b3a3-290dd1426888",
   "metadata": {},
   "outputs": [],
   "source": [
    "#Comparing two different sets"
   ]
  },
  {
   "cell_type": "code",
   "execution_count": null,
   "id": "524ec6ba-bb32-4752-b693-48354477b803",
   "metadata": {},
   "outputs": [],
   "source": [
    "#Getting Unique Values , using '|' sign."
   ]
  },
  {
   "cell_type": "code",
   "execution_count": 24,
   "id": "f6d91a9b-c9f5-4ad0-9d96-6db8b47777b8",
   "metadata": {},
   "outputs": [
    {
     "name": "stdout",
     "output_type": "stream",
     "text": [
      "{64, 1, 2, 3, 4, 5, 0, 6, 8, 9, 66, 67, 89, 98, 35, 45, 0.2, 55, 56, 57, 62}\n"
     ]
    }
   ],
   "source": [
    "set_duplicates1 = {1,2,3,2,4,5,4,5,64,55,3,9,9,89,0,2,6,8,98,57,45}\n",
    "set_duplicates2 = {4,67,98,62,66,3,35,8,0,0,0.2,2,5,9,8,9,45,57,56}\n",
    "\n",
    "print (set_duplicates1 | set_duplicates2)\n",
    "\n",
    "#Explanation \n",
    "# *The duplicates within each set are removed when the sets are created.\n",
    "# *The | operator ensures all unique elements from both sets are included in the result.\n",
    "# *The resulting set is unordered and contains only unique values.\n",
    "\n",
    "#About | sign : \n",
    "# *The | operator performs the union operation between two sets. \n",
    "# *This operation combines all the unique elements from both sets into a single set."
   ]
  },
  {
   "cell_type": "code",
   "execution_count": null,
   "id": "6d0589de-6274-4a0d-a45c-e2043a77122f",
   "metadata": {},
   "outputs": [],
   "source": []
  },
  {
   "cell_type": "code",
   "execution_count": null,
   "id": "19164bd1-d4b0-4657-ae4c-d80a00954995",
   "metadata": {},
   "outputs": [],
   "source": [
    "#Getting Similar (Common) Values , using '&' sign."
   ]
  },
  {
   "cell_type": "code",
   "execution_count": 26,
   "id": "d1b113e3-74c0-4b6b-999e-7cca09e1e657",
   "metadata": {},
   "outputs": [
    {
     "name": "stdout",
     "output_type": "stream",
     "text": [
      "{0, 2, 3, 4, 5, 98, 8, 9, 45, 57}\n"
     ]
    }
   ],
   "source": [
    "print (set_duplicates1 & set_duplicates2)"
   ]
  },
  {
   "cell_type": "code",
   "execution_count": null,
   "id": "74b70b5f-9eb4-45b1-ad07-62c9022b6485",
   "metadata": {},
   "outputs": [],
   "source": []
  },
  {
   "cell_type": "code",
   "execution_count": null,
   "id": "0977e93b-5f31-44b4-882d-3e0ade3bb2d6",
   "metadata": {},
   "outputs": [],
   "source": [
    "#Getting set1 - set2 Values and vice-versa , using '&' sign."
   ]
  },
  {
   "cell_type": "code",
   "execution_count": 30,
   "id": "0ab6dfe0-1d3d-47b9-a6ec-08d6112a1897",
   "metadata": {},
   "outputs": [
    {
     "name": "stdout",
     "output_type": "stream",
     "text": [
      "{64, 1, 6, 55, 89}\n"
     ]
    }
   ],
   "source": [
    "print (set_duplicates1 - set_duplicates2)\n",
    "\n",
    "#Explanation \n",
    "# *The - operator performs the difference operation between two sets.\n",
    "# *set_duplicates1 - set_duplicates2 means: \"Return all elements in set_duplicates1 that are not present in set_duplicates2.\"\n",
    "\n",
    "#Key Notes:\n",
    "# *Sets remove duplicates automatically, so repeated elements in the input are ignored.\n",
    "# *The difference operation only retains elements from the first set (set_duplicates1) that are not found in the second set (set_duplicates2).\n",
    "# *The result is also a set, which is unordered. The output might not appear in the same order every time you run the code.\n"
   ]
  },
  {
   "cell_type": "code",
   "execution_count": 32,
   "id": "a7b5b82b-f2af-4e40-bab0-066936b860cd",
   "metadata": {},
   "outputs": [
    {
     "name": "stdout",
     "output_type": "stream",
     "text": [
      "{0.2, 66, 35, 67, 56, 62}\n"
     ]
    }
   ],
   "source": [
    "print (set_duplicates2 - set_duplicates1)"
   ]
  },
  {
   "cell_type": "code",
   "execution_count": null,
   "id": "34b0df8d-1636-40b3-a94f-d650ae6d9a48",
   "metadata": {},
   "outputs": [],
   "source": [
    "#They are similar to JOINS in SQL."
   ]
  },
  {
   "cell_type": "code",
   "execution_count": null,
   "id": "a4445c37-9919-463c-95b1-f0d24f92339b",
   "metadata": {},
   "outputs": [],
   "source": []
  },
  {
   "cell_type": "code",
   "execution_count": null,
   "id": "388dfae5-80a9-4da0-b7d2-91f0e804aff8",
   "metadata": {},
   "outputs": [],
   "source": [
    "#Getting Symmeric Difference , using '&' sign."
   ]
  },
  {
   "cell_type": "code",
   "execution_count": 36,
   "id": "446e6ddc-38c4-4a83-8a11-35601f32bebb",
   "metadata": {},
   "outputs": [
    {
     "name": "stdout",
     "output_type": "stream",
     "text": [
      "{0.2, 66, 67, 6, 64, 1, 89, 35, 55, 56, 62}\n"
     ]
    }
   ],
   "source": [
    " print (set_duplicates1 ^ set_duplicates2)\n",
    "\n",
    "#Expanation\n",
    "# *The ^ operator computes the symmetric difference of two sets.\n",
    "# *The symmetric difference is the set of elements that are in either of the sets but not in both.\n",
    "\n",
    "#Calculation:\n",
    "# *Elements in set_duplicates1 but not in set_duplicates2:\n",
    "# ={1, 6, 55, 64, 89}\n",
    "# *Elements in set_duplicates2 but not in set_duplicates1:\n",
    "# ={0.2, 35, 56, 62, 66, 67}\n",
    "\n",
    "#Key Points:\n",
    "# *Duplicates are removed automatically when defining a set.\n",
    "# *The ^ operator is shorthand for the symmetric difference operation.\n",
    "# *The symmetric difference only includes unique elements that are in either set but not shared by both.\n",
    "# *This operation is useful for identifying differences between two datasets in Python.\n"
   ]
  },
  {
   "cell_type": "code",
   "execution_count": null,
   "id": "75ca12db-3fc4-4136-a45e-3ed20f5b0ad1",
   "metadata": {},
   "outputs": [],
   "source": []
  },
  {
   "cell_type": "code",
   "execution_count": null,
   "id": "52a167fe-dfcb-4a28-9236-8dc24e87384e",
   "metadata": {},
   "outputs": [],
   "source": []
  },
  {
   "cell_type": "code",
   "execution_count": null,
   "id": "a12eb30d-ba9b-48b7-91f6-13f5df8eaf3d",
   "metadata": {},
   "outputs": [],
   "source": [
    "#4.Dictionaris Data Types"
   ]
  },
  {
   "cell_type": "code",
   "execution_count": null,
   "id": "4fc2c941-1c7b-4e86-915c-b2cef619f002",
   "metadata": {},
   "outputs": [],
   "source": [
    "\n",
    "#In Python, dictionaries are a built-in data type that allows you to store data as key-value pairs. \n",
    "#They are highly versatile and widely used for storing and retrieving data efficiently.\n",
    "\n",
    "#Key Features of Dictionaries:\n",
    "# *Key-Value Pair Structure: Each item in a dictionary is stored as a pair of a key and its corresponding value\n",
    "# -Eg:    my_dict = {\"name\": \"Alice\", \"age\": 25, \"city\": \"New York\"}\n",
    "#         Here, \"name\", \"age\", and \"city\" are the keys, and \"Alice\", 25, and \"New York\" are their respective values.\n",
    "# *Unordered (Python < 3.7): Dictionaries do not maintain the order of items.Ordered (Python >= 3.7): The insertion order of items is preserved.\n",
    "# *Mutable: Dictionaries can be modified by adding, updating, or deleting elements.\n",
    "# *Keys are Unique: Duplicate keys are not allowed. If you assign a new value to an existing key, the old value is overwritten.\n",
    "# *Keys are Immutable: Only immutable data types like strings, numbers, or tuples can be used as keys.\n",
    "\n",
    "#Common Operations:\n",
    "# *Create a Dictionary.\n",
    "# *Access Values.\n",
    "# *Add or Update Items.\n",
    "# *Delete Items.\n",
    "# *Check for a Key.\n",
    "# *Iterate through a Dictionary.\n",
    "\n",
    "#Built-in Methods:\n",
    "# *keys(): Returns all keys.\n",
    "# *values(): Returns all values.\n",
    "# *items(): Returns key-value pairs.\n",
    "# *get(key, default): Fetches a value; returns default if the key doesn't exist.\n",
    "# *pop(key): Removes a key and returns its value.\n",
    "# *clear(): Removes all items.\n"
   ]
  },
  {
   "cell_type": "code",
   "execution_count": 50,
   "id": "332e1275-d758-480d-8162-5d4841e98ddb",
   "metadata": {},
   "outputs": [],
   "source": [
    "dict_fruits={'Yellow fruit':'Banana','Green fruit':'Guava','Total fruits':5,'Red fruits':['Apple','Straw Berry','Red Cherry']}"
   ]
  },
  {
   "cell_type": "code",
   "execution_count": 52,
   "id": "ee592562-f29d-4628-94ac-8580c4bb60d4",
   "metadata": {},
   "outputs": [
    {
     "data": {
      "text/plain": [
       "dict"
      ]
     },
     "execution_count": 52,
     "metadata": {},
     "output_type": "execute_result"
    }
   ],
   "source": [
    "type (dict_fruits)"
   ]
  },
  {
   "cell_type": "code",
   "execution_count": 54,
   "id": "268e4b24-40a5-4871-84c8-b4d0dbed58fc",
   "metadata": {},
   "outputs": [
    {
     "name": "stdout",
     "output_type": "stream",
     "text": [
      "{'Yellow fruit': 'Banana', 'Green fruit': 'Guava', 'Total fruits': 5, 'Red fruits': ['Apple', 'Straw Berry', 'Red Cherry']}\n"
     ]
    }
   ],
   "source": [
    "print(dict_fruits)"
   ]
  },
  {
   "cell_type": "code",
   "execution_count": 88,
   "id": "fe3001ce-b9fe-4cbc-adc1-9a2db0a1dcc3",
   "metadata": {},
   "outputs": [
    {
     "data": {
      "text/plain": [
       "dict_keys(['Yellow fruit', 'Green fruit', 'Total fruits', 'Red fruits'])"
      ]
     },
     "execution_count": 88,
     "metadata": {},
     "output_type": "execute_result"
    }
   ],
   "source": [
    "dict_fruits.keys()"
   ]
  },
  {
   "cell_type": "code",
   "execution_count": 84,
   "id": "afc704f2-1cbd-4ed3-bd66-a58c6a3de05a",
   "metadata": {},
   "outputs": [
    {
     "data": {
      "text/plain": [
       "dict_values(['Banana', 'Guava', 5, ['Apple', 'Straw Berry', 'Red Cherry']])"
      ]
     },
     "execution_count": 84,
     "metadata": {},
     "output_type": "execute_result"
    }
   ],
   "source": [
    "dict_fruits.values()"
   ]
  },
  {
   "cell_type": "code",
   "execution_count": 86,
   "id": "ae884a5e-e602-4faf-b25b-6715f4111b9a",
   "metadata": {},
   "outputs": [
    {
     "data": {
      "text/plain": [
       "dict_items([('Yellow fruit', 'Banana'), ('Green fruit', 'Guava'), ('Total fruits', 5), ('Red fruits', ['Apple', 'Straw Berry', 'Red Cherry'])])"
      ]
     },
     "execution_count": 86,
     "metadata": {},
     "output_type": "execute_result"
    }
   ],
   "source": [
    "dict_fruits.items()"
   ]
  },
  {
   "cell_type": "code",
   "execution_count": null,
   "id": "c32e1994-79a9-46d4-ad66-bd5c0d57b2e9",
   "metadata": {},
   "outputs": [],
   "source": []
  },
  {
   "cell_type": "code",
   "execution_count": null,
   "id": "22fb9d61-7652-4568-837d-512d7ac622ce",
   "metadata": {},
   "outputs": [],
   "source": [
    "#Calling Dictionaries by Keys. NOTE:In list we can call elements using Index, But in Dictionaries we call it using Keys."
   ]
  },
  {
   "cell_type": "code",
   "execution_count": 90,
   "id": "0efeebe7-b252-4911-834f-ab457e10b67f",
   "metadata": {},
   "outputs": [
    {
     "data": {
      "text/plain": [
       "['Apple', 'Straw Berry', 'Red Cherry']"
      ]
     },
     "execution_count": 90,
     "metadata": {},
     "output_type": "execute_result"
    }
   ],
   "source": [
    "dict_fruits['Red fruits']"
   ]
  },
  {
   "cell_type": "code",
   "execution_count": 92,
   "id": "29a898f4-3e56-41d9-8470-1793791a9b41",
   "metadata": {},
   "outputs": [
    {
     "data": {
      "text/plain": [
       "'Banana'"
      ]
     },
     "execution_count": 92,
     "metadata": {},
     "output_type": "execute_result"
    }
   ],
   "source": [
    "dict_fruits['Yellow fruit']"
   ]
  },
  {
   "cell_type": "code",
   "execution_count": 94,
   "id": "d15cab06-0637-4a30-9b7d-c039145ee121",
   "metadata": {},
   "outputs": [
    {
     "data": {
      "text/plain": [
       "'Guava'"
      ]
     },
     "execution_count": 94,
     "metadata": {},
     "output_type": "execute_result"
    }
   ],
   "source": [
    "dict_fruits['Green fruit']"
   ]
  },
  {
   "cell_type": "code",
   "execution_count": 96,
   "id": "512c77ca-51eb-4fca-80b3-50359b256735",
   "metadata": {},
   "outputs": [
    {
     "data": {
      "text/plain": [
       "5"
      ]
     },
     "execution_count": 96,
     "metadata": {},
     "output_type": "execute_result"
    }
   ],
   "source": [
    "dict_fruits['Total fruits']"
   ]
  },
  {
   "cell_type": "code",
   "execution_count": null,
   "id": "2b9c6234-e8bc-4dc8-ad79-89a8ef55fbbb",
   "metadata": {},
   "outputs": [],
   "source": []
  },
  {
   "cell_type": "code",
   "execution_count": 104,
   "id": "8353f97f-0c93-46a0-a406-b9a2843cb7b8",
   "metadata": {},
   "outputs": [
    {
     "name": "stdout",
     "output_type": "stream",
     "text": [
      "Apple\n",
      "Straw Berry\n",
      "Red Cherry\n"
     ]
    }
   ],
   "source": [
    "# Access the red fruits list\n",
    "red_fruits = dict_fruits['Red fruits']\n",
    "\n",
    "# Access items by index\n",
    "print(red_fruits[0])  # Output: Apple\n",
    "print(red_fruits[1])  # Output: Straw Berry\n",
    "print(red_fruits[2])  # Output: Red Cherry\n",
    "\n",
    "#Explalnation\n",
    "# *red_fruits[0]: Accesses the first item in the list ('Apple').\n",
    "# *red_fruits[1]: Accesses the second item in the list ('Straw Berry').\n",
    "# *red_fruits[2]: Accesses the third item in the list ('Red Cherry').\n",
    "# *If you want to print all items with their indices, you can use a loop:\n",
    "#    -Eg:for index, fruit in enumerate(dict_fruits['Red fruits']):\n",
    "#        print(f\"Index {index}: {fruit}\")\n"
   ]
  },
  {
   "cell_type": "code",
   "execution_count": null,
   "id": "827e5ec1-9c3a-4d90-a952-663dc5a460e4",
   "metadata": {},
   "outputs": [],
   "source": []
  },
  {
   "cell_type": "code",
   "execution_count": 108,
   "id": "eadeb4f6-01ce-43b8-b50b-833f68453cf1",
   "metadata": {},
   "outputs": [
    {
     "name": "stdout",
     "output_type": "stream",
     "text": [
      "{'Yellow fruit': 'Mango', 'Green fruit': 'Guava', 'Total fruits': 5, 'Red fruits': ['Apple', 'Straw Berry', 'Red Cherry']}\n"
     ]
    }
   ],
   "source": [
    "#Updating the Elements\n",
    "dict_fruits['Yellow fruit'] = 'Mango'\n",
    "\n",
    "print(dict_fruits)"
   ]
  },
  {
   "cell_type": "code",
   "execution_count": 110,
   "id": "d22e6f8e-1a9c-4a63-bb45-79cca0050e84",
   "metadata": {},
   "outputs": [
    {
     "name": "stdout",
     "output_type": "stream",
     "text": [
      "{'Yellow fruit': ['Mango', 'Banana', 'Papaya'], 'Green fruit': 'Guava', 'Total fruits': 5, 'Red fruits': ['Apple', 'Straw Berry', 'Red Cherry']}\n"
     ]
    }
   ],
   "source": [
    "#Updating the Elements\n",
    "dict_fruits['Yellow fruit'] = ['Mango','Banana','Papaya']\n",
    "\n",
    "print(dict_fruits)"
   ]
  },
  {
   "cell_type": "code",
   "execution_count": 112,
   "id": "ace79138-4784-470b-8760-165c66baf9d7",
   "metadata": {},
   "outputs": [
    {
     "name": "stdout",
     "output_type": "stream",
     "text": [
      "{'Yellow fruit': ['Mango', 'Banana', 'Papaya'], 'Green fruit': 'Guava', 'Total fruits': 7, 'Red fruits': ['Apple', 'Straw Berry', 'Red Cherry']}\n"
     ]
    }
   ],
   "source": [
    "dict_fruits['Total fruits'] = 7\n",
    "\n",
    "print(dict_fruits)"
   ]
  },
  {
   "cell_type": "code",
   "execution_count": null,
   "id": "2c66939b-24b7-47eb-b0a0-7038885e1edf",
   "metadata": {},
   "outputs": [],
   "source": []
  },
  {
   "cell_type": "code",
   "execution_count": 132,
   "id": "ad74f382-5082-4bae-8cf5-1da658b46558",
   "metadata": {},
   "outputs": [
    {
     "name": "stdout",
     "output_type": "stream",
     "text": [
      "{'Yellow fruit': ['Mango', 'Banana', 'Papaya'], 'Green fruit': 'Guava', 'Total fruits': 8, 'Red fruits': ['Apple', 'Straw Berry', 'Red Cherry', 'Pommogranate']}\n"
     ]
    }
   ],
   "source": [
    "#Updating All at Once\n",
    "dict_fruits.update({'Yellow fruit': ['Mango', 'Banana', 'Papaya'], 'Green fruit': 'Guava', 'Total fruits': 8\n",
    "                   , 'Red fruits': ['Apple', 'Straw Berry', 'Red Cherry','Pommogranate']}\n",
    "                  )\n",
    "\n",
    "print(dict_fruits)\n",
    "\n",
    "#NOTE:Using Update fuction you can only ADD ELEMENTS to Update NOT Delete and Update. For deletion we use .delete function.\n"
   ]
  },
  {
   "cell_type": "code",
   "execution_count": null,
   "id": "d0b05e59-f93e-48e7-9882-a3b1fd59b9ee",
   "metadata": {},
   "outputs": [],
   "source": []
  },
  {
   "cell_type": "code",
   "execution_count": null,
   "id": "41d957c5-ec89-4b36-8a2f-d7c006eb623e",
   "metadata": {},
   "outputs": [],
   "source": [
    "#Deleting in Dictionaries"
   ]
  },
  {
   "cell_type": "code",
   "execution_count": 134,
   "id": "b1770961-45de-4021-9469-3e00d30a3880",
   "metadata": {},
   "outputs": [
    {
     "name": "stdout",
     "output_type": "stream",
     "text": [
      "{'Yellow fruit': ['Mango', 'Banana', 'Papaya'], 'Green fruit': 'Guava', 'Total fruits': 8}\n"
     ]
    }
   ],
   "source": [
    "del dict_fruits['Red fruits']\n",
    "\n",
    "print(dict_fruits)"
   ]
  },
  {
   "cell_type": "code",
   "execution_count": null,
   "id": "94e15557-7a5d-4cfa-aa29-e3deebd27014",
   "metadata": {},
   "outputs": [],
   "source": []
  },
  {
   "cell_type": "code",
   "execution_count": null,
   "id": "066db142-e501-4cc3-8a1b-d65eaff3c56f",
   "metadata": {},
   "outputs": [],
   "source": []
  },
  {
   "cell_type": "code",
   "execution_count": null,
   "id": "c1945c41-60ff-4ad9-b9ac-9f1f48ee2f5d",
   "metadata": {},
   "outputs": [],
   "source": []
  },
  {
   "cell_type": "code",
   "execution_count": null,
   "id": "de382899-0eee-42e8-91f7-8b515d7a7b34",
   "metadata": {},
   "outputs": [],
   "source": []
  },
  {
   "cell_type": "code",
   "execution_count": null,
   "id": "1979d669-c7c9-4699-a2c3-7e12a9d0e421",
   "metadata": {},
   "outputs": [],
   "source": []
  }
 ],
 "metadata": {
  "kernelspec": {
   "display_name": "Python 3 (ipykernel)",
   "language": "python",
   "name": "python3"
  },
  "language_info": {
   "codemirror_mode": {
    "name": "ipython",
    "version": 3
   },
   "file_extension": ".py",
   "mimetype": "text/x-python",
   "name": "python",
   "nbconvert_exporter": "python",
   "pygments_lexer": "ipython3",
   "version": "3.12.7"
  }
 },
 "nbformat": 4,
 "nbformat_minor": 5
}
