{
 "cells": [
  {
   "cell_type": "code",
   "execution_count": null,
   "id": "db1f6d75-6baf-4929-822f-c686308b82da",
   "metadata": {},
   "outputs": [],
   "source": [
    "#For Loops Flowchart"
   ]
  },
  {
   "attachments": {
    "5b036eab-5034-4084-9dcf-f399fc1788bc.png": {
     "image/png": "[encoded data removed]"
    }
   },
   "cell_type": "markdown",
   "id": "cd55cfbc-b130-4eec-9303-53eb9b3bf84e",
   "metadata": {},
   "source": [
    "![for-loop-flowchart.png](attachment:5b036eab-5034-4084-9dcf-f399fc1788bc.png)\n"
   ]
  },
  {
   "cell_type": "code",
   "execution_count": null,
   "id": "7ef5c74f-7bf1-402d-a6a8-34f293c9c946",
   "metadata": {},
   "outputs": [],
   "source": [
    "#Explanation of above Flowcahrt\n",
    "\n",
    "\n",
    "\n",
    "\n",
    "\n",
    "\n"
   ]
  },
  {
   "cell_type": "code",
   "execution_count": null,
   "id": "6ab6a184-63e5-457b-b26d-5fe962bde677",
   "metadata": {},
   "outputs": [],
   "source": [
    "#List Example"
   ]
  },
  {
   "cell_type": "code",
   "execution_count": 10,
   "id": "d9933e6f-3e29-4e74-9405-5de3ddd46b0f",
   "metadata": {},
   "outputs": [],
   "source": [
    "integers=[1,2,3,4,5]"
   ]
  },
  {
   "cell_type": "code",
   "execution_count": 20,
   "id": "d6fc3a1f-9f58-46a9-946a-79b33826f219",
   "metadata": {},
   "outputs": [
    {
     "name": "stdout",
     "output_type": "stream",
     "text": [
      "1\n",
      "2\n",
      "3\n",
      "4\n",
      "5\n"
     ]
    }
   ],
   "source": [
    "for numbers in integers:    #NOTE:Here 'numbers' is a temporary variable that is assigned with the elements in integers list.You can name it anything.\n",
    "    print(numbers)"
   ]
  },
  {
   "cell_type": "code",
   "execution_count": 30,
   "id": "b18e8ab6-016e-4771-9215-bf5a31256078",
   "metadata": {},
   "outputs": [
    {
     "name": "stdout",
     "output_type": "stream",
     "text": [
      "Namaste\n",
      "Namaste\n",
      "Namaste\n",
      "Namaste\n",
      "Namaste\n"
     ]
    }
   ],
   "source": [
    "for numbers in integers:\n",
    "    print('Namaste')       #Here it has given 'Namaste' for every elements or the loops occured for each element until reaching the last element.\n",
    "                            #Or you can say \"The variable 'Namaste' takes the value of each element in the list one by one\"."
   ]
  },
  {
   "cell_type": "code",
   "execution_count": null,
   "id": "9f318adf-8c41-4168-bb49-96076357fbda",
   "metadata": {},
   "outputs": [],
   "source": []
  },
  {
   "cell_type": "code",
   "execution_count": 10,
   "id": "06138db5-53fa-4b86-9a56-e38a503de94b",
   "metadata": {},
   "outputs": [],
   "source": [
    "integers=[1,2,3,4,5]"
   ]
  },
  {
   "cell_type": "code",
   "execution_count": 28,
   "id": "29f3cc0c-728e-4b15-be8d-8240e83cebef",
   "metadata": {},
   "outputs": [
    {
     "name": "stdout",
     "output_type": "stream",
     "text": [
      "2\n",
      "4\n",
      "6\n",
      "8\n",
      "10\n"
     ]
    }
   ],
   "source": [
    "for numbers in integers: \n",
    "    print(numbers + numbers) \n",
    "\n",
    "#Expalntion \n",
    "#Step-by-step breakdown:\n",
    "# 1.List Initialization: integers = [1, 2, 3, 4, 5] defines a list of integers from 1 to 5.\n",
    "# 2.For Loop: for numbers in integers: means the loop will go through each element of the integers list. \n",
    "   # *The variable numbers takes the value of each element in the list one by one.\n",
    "# 3.Adding the Number to Itself: Inside the loop, (numbers + numbers) adds the current number to itself. \n",
    "    # *This is the same as multiplying the number by 2. \n",
    "    # *For example, when numbers = 1, the result of 1 + 1 is 2, and when numbers = 2, the result of 2 + 2 is 4.\n",
    "# 4.Print: The print() function then outputs the result of the addition to the console for each iteration.\n",
    "\n",
    "#Output:\n",
    "# *Each number in the list is doubled and printed in sequence."
   ]
  },
  {
   "cell_type": "code",
   "execution_count": null,
   "id": "41aad302-e4af-4f69-b59b-4048094f2cb5",
   "metadata": {},
   "outputs": [],
   "source": []
  },
  {
   "cell_type": "code",
   "execution_count": null,
   "id": "5bd17cdb-abd8-45ff-8ff7-ecd70d39352d",
   "metadata": {},
   "outputs": [],
   "source": [
    "#Dictionaries Example"
   ]
  },
  {
   "cell_type": "code",
   "execution_count": 62,
   "id": "a9bb72b8-90b1-4e56-bff9-2b3ffea13b56",
   "metadata": {},
   "outputs": [],
   "source": [
    "Integer_dict = {\n",
    "    'whole_number':[0,1,2,3],\n",
    "    'foat_numbers':[0.1,2.14,1.2],\n",
    "    'fruit_name':'Apple'\n",
    "}"
   ]
  },
  {
   "cell_type": "code",
   "execution_count": 48,
   "id": "c630240b-6a65-4979-b031-2db985e1fa99",
   "metadata": {},
   "outputs": [
    {
     "name": "stdout",
     "output_type": "stream",
     "text": [
      "{'whole_number': [0, 1, 2, 3], 'foat_numbers': [0.1, 2.14, 1.2], 'fruit_name': 'Apple'}\n"
     ]
    }
   ],
   "source": [
    "print(Integer_dict)"
   ]
  },
  {
   "cell_type": "code",
   "execution_count": null,
   "id": "7ee77d98-1d8c-4315-b626-b2d87a4134d0",
   "metadata": {},
   "outputs": [],
   "source": []
  },
  {
   "cell_type": "code",
   "execution_count": 68,
   "id": "3a3e7ee8-26d1-46bc-bd54-d5f57bf6d751",
   "metadata": {},
   "outputs": [
    {
     "name": "stdout",
     "output_type": "stream",
     "text": [
      "('whole_number', [0, 1, 2, 3])\n",
      "('foat_numbers', [0.1, 2.14, 1.2])\n",
      "('fruit_name', 'Apple')\n"
     ]
    }
   ],
   "source": [
    "for numbers_fruit in Integer_dict.items():    #NOTE:Here you have to specify either you want loops for items, keys or values.\n",
    "    print(numbers_fruit)"
   ]
  },
  {
   "cell_type": "code",
   "execution_count": null,
   "id": "18312bfb-7049-41eb-9d8d-ec1cc5faadc3",
   "metadata": {},
   "outputs": [],
   "source": []
  },
  {
   "cell_type": "code",
   "execution_count": 70,
   "id": "03967937-7e45-446c-93c8-78504c155019",
   "metadata": {},
   "outputs": [
    {
     "name": "stdout",
     "output_type": "stream",
     "text": [
      "whole_number\n",
      "foat_numbers\n",
      "fruit_name\n"
     ]
    }
   ],
   "source": [
    "for numbers_fruit in Integer_dict.keys():    #NOTE:Here you have to specify either you want loops for items, keys or values.\n",
    "    print(numbers_fruit)"
   ]
  },
  {
   "cell_type": "code",
   "execution_count": null,
   "id": "d7775ef3-bbcc-42d4-b5af-9e9e53267dce",
   "metadata": {},
   "outputs": [],
   "source": []
  },
  {
   "cell_type": "code",
   "execution_count": 72,
   "id": "a0f8240e-4090-4cb5-82b1-c6ecd2872eb1",
   "metadata": {},
   "outputs": [
    {
     "name": "stdout",
     "output_type": "stream",
     "text": [
      "[0, 1, 2, 3]\n",
      "[0.1, 2.14, 1.2]\n",
      "Apple\n"
     ]
    }
   ],
   "source": [
    "for numbers_fruit in Integer_dict.values():  #NOTE:Here you have to specify either you want loops for items, keys or values.\n",
    "    print(numbers_fruit)"
   ]
  },
  {
   "cell_type": "code",
   "execution_count": null,
   "id": "44501b00-11b1-49ce-8f0b-1e319ec91dac",
   "metadata": {},
   "outputs": [],
   "source": []
  },
  {
   "cell_type": "code",
   "execution_count": null,
   "id": "f2923163-414a-4124-bba9-fa296de29850",
   "metadata": {},
   "outputs": [],
   "source": [
    "#Keys,Values and items at the same time "
   ]
  },
  {
   "cell_type": "code",
   "execution_count": 102,
   "id": "edbd3191-3e79-43a4-b3cd-e3ad82f2d764",
   "metadata": {},
   "outputs": [
    {
     "name": "stdout",
     "output_type": "stream",
     "text": [
      "whole_number = [0, 1, 2, 3]\n",
      "foat_numbers = [0.1, 2.14, 1.2]\n",
      "fruit_name = Apple\n"
     ]
    }
   ],
   "source": [
    "for key,value in Integer_dict.items():  #NOTE:Here you have to specify either you want loops for items, keys or values.\n",
    "    print(key,'=',value)"
   ]
  },
  {
   "cell_type": "code",
   "execution_count": null,
   "id": "f59201df-222e-4dd7-a642-738efb244a4c",
   "metadata": {},
   "outputs": [],
   "source": []
  },
  {
   "cell_type": "code",
   "execution_count": 104,
   "id": "f33808ff-b2b3-4253-96e9-23875f5dce11",
   "metadata": {},
   "outputs": [
    {
     "name": "stdout",
     "output_type": "stream",
     "text": [
      "whole_number = [0, 1, 2, 3]\n",
      "foat_numbers = [0.1, 2.14, 1.2]\n",
      "fruit_name = Apple\n"
     ]
    }
   ],
   "source": [
    "for value,key in Integer_dict.items():  #NOTE:Here you have to specify either you want loops for items, keys or values.\n",
    "    print(value,'=',key)"
   ]
  },
  {
   "cell_type": "code",
   "execution_count": null,
   "id": "dc52094a-cc94-4350-82a1-0f0db70bb01e",
   "metadata": {},
   "outputs": [],
   "source": []
  },
  {
   "cell_type": "code",
   "execution_count": 64,
   "id": "5824c73f-c6b2-491e-ab67-494aa03f09e9",
   "metadata": {},
   "outputs": [
    {
     "name": "stdout",
     "output_type": "stream",
     "text": [
      "Namaste\n",
      "Namaste\n",
      "Namaste\n"
     ]
    }
   ],
   "source": [
    "for numbers_fruit in Integer_dict.items():   #NOTE: Here you got Namste only 3 times.\n",
    "    print('Namaste')\n",
    "\n",
    "#Explantion\n",
    "#How It Works:\n",
    "#Integer_dict.items(): This method returns all key-value pairs of the dictionary as tuples. \n",
    "#For Integer_dict, it will produce:\n",
    "#  [\n",
    "#    ('whole_number', [0, 1, 2, 3]),\n",
    "#   ('foat_numbers', [0.1, 2.14, 1.2]),\n",
    "#    ('fruit_name', 'Apple') \n",
    "#  ]\n",
    "\n",
    "#Loop Iterations:\n",
    "# *On each iteration, numbers_fruit holds one key-value pair as a tuple.\n",
    "# *The loop executes once for each key-value pair in the dictionary.\n",
    "# *Since there are 3 key-value pairs, the loop executes 3 times.\n",
    "\n",
    "#Output:\n",
    "# *For each iteration, the print('Namaste') statement is executed, resulting in \"Namaste\" being printed 3 times.\n",
    "\n",
    "#Key Points:\n",
    "# *The number of iterations depends on the number of items (key-value pairs) in the dictionary.\n",
    "# *The loop doesn't use the actual values in the dictionary; it just iterates through the pairs and executes the print statement.\n",
    "\n",
    "#Why \"Namaste\" Only 3 Times?\n",
    "# *The dictionary has 3 key-value pairs.\n",
    "# *Hence, the loop iterates 3 times, and \"Namaste\" is printed during each iteration.\n"
   ]
  },
  {
   "cell_type": "code",
   "execution_count": null,
   "id": "699b6683-fb03-48fe-95c7-f5d0584192cc",
   "metadata": {},
   "outputs": [],
   "source": []
  },
  {
   "cell_type": "code",
   "execution_count": 66,
   "id": "eb0e6be2-3a2c-4f94-9977-f8e021a9d0f6",
   "metadata": {},
   "outputs": [
    {
     "name": "stdout",
     "output_type": "stream",
     "text": [
      "Namaste\n",
      "Namaste\n",
      "Namaste\n"
     ]
    }
   ],
   "source": [
    "for numbers_fruit in Integer_dict.values():  \n",
    "    print('Namaste')\n",
    "\n",
    "##NOTE: Here you got Namste only 3 times. \n",
    "# Because : \n",
    "# *The number of iterations depends on the number of items (key-value pairs) in the dictionary.\n",
    "# *The loop doesn't use the actual values in the dictionary; it just iterates through the pairs and executes the print statement.\n",
    "# AND : \n",
    "# *The dictionary has 3 key-value pairs.\n",
    "# *Hence, the loop iterates 3 times, and \"Namaste\" is printed during each iteration.\n",
    "\n"
   ]
  },
  {
   "cell_type": "code",
   "execution_count": null,
   "id": "4a25632a-f49b-4543-bd75-6411db83d0b0",
   "metadata": {},
   "outputs": [],
   "source": []
  },
  {
   "cell_type": "code",
   "execution_count": null,
   "id": "5f48a8c1-0d2a-4c50-a9d0-dbf2bf161190",
   "metadata": {},
   "outputs": [],
   "source": []
  },
  {
   "cell_type": "code",
   "execution_count": null,
   "id": "269c4f17-cc8c-4adc-a6ba-3de25179654d",
   "metadata": {},
   "outputs": [],
   "source": [
    "#Nested for loops"
   ]
  },
  {
   "cell_type": "code",
   "execution_count": 112,
   "id": "493c5358-00d7-4315-9d45-d2e1bae5cfde",
   "metadata": {},
   "outputs": [
    {
     "name": "stdout",
     "output_type": "stream",
     "text": [
      "Mango shake is tasty\n",
      "Mango salad is tasty\n",
      "Mango juice is tasty\n",
      "Apple shake is tasty\n",
      "Apple salad is tasty\n",
      "Apple juice is tasty\n",
      "Guava shake is tasty\n",
      "Guava salad is tasty\n",
      "Guava juice is tasty\n"
     ]
    }
   ],
   "source": [
    "fruits =['Mango','Apple','Guava']\n",
    "Color =['shake','salad','juice']\n",
    "\n",
    "for list_one in fruits:\n",
    "    for list_two in Color:\n",
    "        print(list_one , list_two ,'is tasty')\n",
    "#So, here it acted as Multiplication of two list.\n",
    "#Here for both lists Loops iterated for each element in both the list( fruits= 3 elements,Color=3 elements and Total No. of Loops = 3*3 = 9.\n",
    "#Where 3*3 = Total no. of elements in list_one * Total no. of elements in list_two\n",
    "    "
   ]
  },
  {
   "cell_type": "code",
   "execution_count": 126,
   "id": "a3ab37ba-1057-4af5-b21a-0e5560fe7c6c",
   "metadata": {},
   "outputs": [],
   "source": [
    "#Table of 2."
   ]
  },
  {
   "cell_type": "code",
   "execution_count": 124,
   "id": "f615fc73-731c-40cd-9ca3-c5d6a2739bb2",
   "metadata": {},
   "outputs": [
    {
     "name": "stdout",
     "output_type": "stream",
     "text": [
      "2\n",
      "4\n",
      "6\n",
      "8\n",
      "10\n",
      "12\n",
      "14\n",
      "16\n",
      "18\n",
      "20\n"
     ]
    }
   ],
   "source": [
    "list_one =[2]\n",
    "list_two =[1,2,3,4,5,6,7,8,9,10]\n",
    "\n",
    "for values1 in list_one :\n",
    "    for values2 in list_two:\n",
    "        print(values1 * values2 )"
   ]
  },
  {
   "cell_type": "code",
   "execution_count": null,
   "id": "a797677a-f363-4ef0-a5d0-cf72e2eecfc2",
   "metadata": {},
   "outputs": [],
   "source": []
  },
  {
   "cell_type": "code",
   "execution_count": null,
   "id": "4765764b-a44c-4c10-879d-6f94bdbe1bed",
   "metadata": {},
   "outputs": [],
   "source": []
  },
  {
   "cell_type": "code",
   "execution_count": null,
   "id": "043c142f-af66-4fce-b205-68b20aa5af81",
   "metadata": {},
   "outputs": [],
   "source": []
  }
 ],
 "metadata": {
  "kernelspec": {
   "display_name": "Python [conda env:base] *",
   "language": "python",
   "name": "conda-base-py"
  },
  "language_info": {
   "codemirror_mode": {
    "name": "ipython",
    "version": 3
   },
   "file_extension": ".py",
   "mimetype": "text/x-python",
   "name": "python",
   "nbconvert_exporter": "python",
   "pygments_lexer": "ipython3",
   "version": "3.12.7"
  }
 },
 "nbformat": 4,
 "nbformat_minor": 5
}
