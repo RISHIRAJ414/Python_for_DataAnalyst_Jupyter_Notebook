{
 "cells": [
  {
   "cell_type": "code",
   "execution_count": null,
   "id": "535e3a71-f8ae-4781-82a0-fb55c6fcfe9b",
   "metadata": {},
   "outputs": [],
   "source": [
    "## Data Types in Python ##"
   ]
  },
  {
   "cell_type": "code",
   "execution_count": null,
   "id": "2e0936d2-83bb-42d0-99bc-d4f41809ac0d",
   "metadata": {},
   "outputs": [],
   "source": [
    "#1.Numrical Data Types"
   ]
  },
  {
   "cell_type": "code",
   "execution_count": 12,
   "id": "e88fe658-913c-47f6-ab20-8054d6c4c42d",
   "metadata": {},
   "outputs": [
    {
     "data": {
      "text/plain": [
       "int"
      ]
     },
     "execution_count": 12,
     "metadata": {},
     "output_type": "execute_result"
    }
   ],
   "source": [
    "type(12) # Positive Value"
   ]
  },
  {
   "cell_type": "code",
   "execution_count": 14,
   "id": "5ee63bfa-4173-431e-94f7-334e6493b938",
   "metadata": {},
   "outputs": [
    {
     "data": {
      "text/plain": [
       "int"
      ]
     },
     "execution_count": 14,
     "metadata": {},
     "output_type": "execute_result"
    }
   ],
   "source": [
    "type(-12) # Negative Value"
   ]
  },
  {
   "cell_type": "code",
   "execution_count": 16,
   "id": "93386789-fcbc-4c94-ac43-b8bb09321b4e",
   "metadata": {},
   "outputs": [
    {
     "data": {
      "text/plain": [
       "int"
      ]
     },
     "execution_count": 16,
     "metadata": {},
     "output_type": "execute_result"
    }
   ],
   "source": [
    "type(-12+20) # Operational Value"
   ]
  },
  {
   "cell_type": "code",
   "execution_count": 22,
   "id": "578afe82-1226-49bb-a35e-5c21c2a0506c",
   "metadata": {},
   "outputs": [
    {
     "data": {
      "text/plain": [
       "float"
      ]
     },
     "execution_count": 22,
     "metadata": {},
     "output_type": "execute_result"
    }
   ],
   "source": [
    "type(-12+20.5) # Float(Decimal) Value"
   ]
  },
  {
   "cell_type": "code",
   "execution_count": 20,
   "id": "d5b9957f-da72-450f-8d4c-8c3801ad9f11",
   "metadata": {},
   "outputs": [
    {
     "data": {
      "text/plain": [
       "complex"
      ]
     },
     "execution_count": 20,
     "metadata": {},
     "output_type": "execute_result"
    }
   ],
   "source": [
    "type(-12+20.5j) # Complex Value ( NOTE:Only 'j' character can be used as imaginary number."
   ]
  },
  {
   "cell_type": "code",
   "execution_count": null,
   "id": "c9f7d9a9-3901-48ef-bbe6-c0c153ed70c0",
   "metadata": {},
   "outputs": [],
   "source": []
  },
  {
   "cell_type": "code",
   "execution_count": null,
   "id": "15c65d0d-6e8a-46fa-92ac-144e2d470790",
   "metadata": {},
   "outputs": [],
   "source": [
    "#2.Boolean Data Types (True or False)"
   ]
  },
  {
   "cell_type": "code",
   "execution_count": 26,
   "id": "c7e63730-5deb-46af-a6c8-44b4484265d6",
   "metadata": {},
   "outputs": [
    {
     "data": {
      "text/plain": [
       "bool"
      ]
     },
     "execution_count": 26,
     "metadata": {},
     "output_type": "execute_result"
    }
   ],
   "source": [
    "type(True)"
   ]
  },
  {
   "cell_type": "code",
   "execution_count": 28,
   "id": "7cadc535-47c9-4019-855d-f105430b4f2b",
   "metadata": {},
   "outputs": [
    {
     "data": {
      "text/plain": [
       "bool"
      ]
     },
     "execution_count": 28,
     "metadata": {},
     "output_type": "execute_result"
    }
   ],
   "source": [
    "type(False)"
   ]
  },
  {
   "cell_type": "code",
   "execution_count": 30,
   "id": "f3bd74f4-9c28-4148-9e7d-14c4e03a9c36",
   "metadata": {},
   "outputs": [
    {
     "data": {
      "text/plain": [
       "bool"
      ]
     },
     "execution_count": 30,
     "metadata": {},
     "output_type": "execute_result"
    }
   ],
   "source": [
    "type(1>5)#Used for Operation or Comparison.etc"
   ]
  },
  {
   "cell_type": "code",
   "execution_count": 32,
   "id": "560f5aa7-0efc-49d6-95af-ba623447be79",
   "metadata": {},
   "outputs": [
    {
     "data": {
      "text/plain": [
       "False"
      ]
     },
     "execution_count": 32,
     "metadata": {},
     "output_type": "execute_result"
    }
   ],
   "source": [
    "1>5 #Case 1"
   ]
  },
  {
   "cell_type": "code",
   "execution_count": 34,
   "id": "477e4fdd-bb48-47b4-a454-f700499eed34",
   "metadata": {},
   "outputs": [
    {
     "data": {
      "text/plain": [
       "True"
      ]
     },
     "execution_count": 34,
     "metadata": {},
     "output_type": "execute_result"
    }
   ],
   "source": [
    "1 == 1 #Case 2"
   ]
  },
  {
   "cell_type": "code",
   "execution_count": null,
   "id": "e9c799bb-3ff4-456e-a080-e5823add5552",
   "metadata": {},
   "outputs": [],
   "source": []
  },
  {
   "cell_type": "code",
   "execution_count": null,
   "id": "c8901a9b-7e67-4c21-bb31-930145145b47",
   "metadata": {},
   "outputs": [],
   "source": [
    "#3.Sequence Data Types( Strings, Lists, Tuples, Ranges )"
   ]
  },
  {
   "cell_type": "code",
   "execution_count": null,
   "id": "4a457897-be8d-4914-9c4d-62b4f27ab47b",
   "metadata": {},
   "outputs": [],
   "source": [
    "#--Strings--"
   ]
  },
  {
   "cell_type": "code",
   "execution_count": 76,
   "id": "40a0f184-b4f8-48de-ae45-ea03a3f1827e",
   "metadata": {},
   "outputs": [
    {
     "data": {
      "text/plain": [
       "'Single Quote'"
      ]
     },
     "execution_count": 76,
     "metadata": {},
     "output_type": "execute_result"
    }
   ],
   "source": [
    "'Single Quote'"
   ]
  },
  {
   "cell_type": "code",
   "execution_count": 72,
   "id": "0da546fc-e21f-4998-afd7-20659f065c46",
   "metadata": {},
   "outputs": [
    {
     "data": {
      "text/plain": [
       "'Double Quote'"
      ]
     },
     "execution_count": 72,
     "metadata": {},
     "output_type": "execute_result"
    }
   ],
   "source": [
    "\"Double Quote\" "
   ]
  },
  {
   "cell_type": "code",
   "execution_count": 78,
   "id": "00f4e8cd-236b-44d4-9040-7969d3fcd26e",
   "metadata": {},
   "outputs": [],
   "source": [
    "triple_double_quote = \"\"\" #Also known as Multi-line which can include Double Quotes also.\n",
    "\n",
    "Triple Double Quote \n",
    "Used for writing \n",
    "Multiples lines .\n",
    "\n",
    "\"\"\""
   ]
  },
  {
   "cell_type": "code",
   "execution_count": 48,
   "id": "fcdd43e9-e4f7-4c24-be33-a5c16f51dd31",
   "metadata": {},
   "outputs": [
    {
     "name": "stdout",
     "output_type": "stream",
     "text": [
      " \n",
      "\n",
      "Triple Double Quote \n",
      "Used for writing \n",
      "Multiples lines .\n",
      "\n",
      "\n"
     ]
    }
   ],
   "source": [
    "print (triple_double_quote)"
   ]
  },
  {
   "cell_type": "code",
   "execution_count": 62,
   "id": "54070c0c-3653-413a-a791-7662c04634f2",
   "metadata": {},
   "outputs": [
    {
     "data": {
      "text/plain": [
       "\" I'll always do 1% percent improvement in me  each and everyday, no matter what \""
      ]
     },
     "execution_count": 62,
     "metadata": {},
     "output_type": "execute_result"
    }
   ],
   "source": [
    "#Use of Double Quote\n",
    "# Double Quote is used to prevent syntax error if we have a single ( ' ) quote in the sentence or string.\n",
    "\" I'll always do 1% percent improvement in me  each and everyday, no matter what \""
   ]
  },
  {
   "cell_type": "code",
   "execution_count": 64,
   "id": "fd25d11d-757b-4d50-847c-b335fc48e054",
   "metadata": {},
   "outputs": [
    {
     "data": {
      "text/plain": [
       "' He said \"I\\'ll always do 1% percent improvement in me each and everyday , no matter what\". '"
      ]
     },
     "execution_count": 64,
     "metadata": {},
     "output_type": "execute_result"
    }
   ],
   "source": [
    "#Use of Triple Double Quote\n",
    "# Triple Double Quote is used to prevent syntax error if we have a double ( \" ) quote in the sentence or string.\n",
    "\"\"\" He said \"I'll always do 1% percent improvement in me each and everyday , no matter what\". \"\"\""
   ]
  },
  {
   "cell_type": "code",
   "execution_count": 66,
   "id": "b46c043b-ec56-4b43-9a04-37ee23e3ee3a",
   "metadata": {},
   "outputs": [
    {
     "name": "stdout",
     "output_type": "stream",
     "text": [
      " He said \"I'll always do 1% percent improvement in me  each and everyday , no matter what\". \n"
     ]
    }
   ],
   "source": [
    "triple_double_quote = \"\"\" He said \"I'll always do 1% percent improvement in me  each and everyday , no matter what\". \"\"\"\n",
    "print (triple_double_quote)"
   ]
  },
  {
   "cell_type": "code",
   "execution_count": null,
   "id": "9e568071-40f3-4461-a533-61ab7bfc8d61",
   "metadata": {},
   "outputs": [],
   "source": []
  },
  {
   "cell_type": "code",
   "execution_count": null,
   "id": "046c2063-3a59-4cf4-96b6-d7f533853d6f",
   "metadata": {},
   "outputs": [],
   "source": [
    "##Searching String with INDEX"
   ]
  },
  {
   "cell_type": "code",
   "execution_count": null,
   "id": "f60a4c45-a4d5-4880-bc41-372b60fb1ecb",
   "metadata": {},
   "outputs": [],
   "source": [
    "#NOTE : String Indexing starts with 0 .\n",
    "#Just give a glance to every code below you will understand it very easily:\n"
   ]
  },
  {
   "cell_type": "code",
   "execution_count": 102,
   "id": "8bdc2fc8-f961-4137-b6d6-ead892f4317b",
   "metadata": {},
   "outputs": [
    {
     "name": "stdout",
     "output_type": "stream",
     "text": [
      "t\n"
     ]
    }
   ],
   "source": [
    "a = 'Namaste to Everyone'\n",
    "print (a[5])      #5th Position character. (NOTE:Index starts from 0) \n",
    "\n",
    "#Explanation:\n",
    "\n",
    "#a = 'Namaste to Everyone': This creates a string variable a and assigns it the value 'Namaste to Everyone'.\n",
    "#a[5]: The square brackets ([]) are used to access specific characters in the string a. Strings in Python are zero-indexed, which means indexing starts at 0.\n",
    "\n",
    "#   a[0] is 'N'\n",
    "#   a[1] is 'a'\n",
    "#   a[2] is 'm'\n",
    "#   a[3] is 'a'\n",
    "#   a[4] is 's'\n",
    "#   a[5] is 't'\n",
    "#   print(a[5]): This will output the 6th character of the string (as indexing starts from 0), which is 't'.\n"
   ]
  },
  {
   "cell_type": "code",
   "execution_count": 118,
   "id": "d4bf7fae-7d13-49c3-8db0-3e8c602f0d9e",
   "metadata": {},
   "outputs": [
    {
     "name": "stdout",
     "output_type": "stream",
     "text": [
      "Namas\n"
     ]
    }
   ],
   "source": [
    "a = 'Namaste to Everyone'\n",
    "print (a[:5])    #Including 0 and return the word that comes before the 5th character.\n",
    "                 # ':' is used for slicing."
   ]
  },
  {
   "cell_type": "code",
   "execution_count": 122,
   "id": "df59b1fe-2db6-4701-97d7-70f1cf4cbe94",
   "metadata": {},
   "outputs": [
    {
     "name": "stdout",
     "output_type": "stream",
     "text": [
      "te to Everyone\n"
     ]
    }
   ],
   "source": [
    "a = 'Namaste to Everyone'\n",
    "print (a[5:])           #Returning Everything after 5th and including 5th also becuase because ':' semi-colon sign is after the Character Index value."
   ]
  },
  {
   "cell_type": "code",
   "execution_count": 116,
   "id": "ac31f25a-070a-4bf5-9307-a4e4c67038c5",
   "metadata": {},
   "outputs": [
    {
     "name": "stdout",
     "output_type": "stream",
     "text": [
      "r\n"
     ]
    }
   ],
   "source": [
    "a = 'Namaste to Everyone'\n",
    "print (a[-5])              #In negative sign Indexing starts from Reverse[-1]. \n",
    "                           #Negative Indexing:\n",
    "                           #* a[-1] refers to the last character of the string.\n",
    "                           #* a[-2] refers to the second-to-last character, and so on.\n",
    "                          "
   ]
  },
  {
   "cell_type": "code",
   "execution_count": 124,
   "id": "24b07fc1-c654-4b1f-b70e-f84941355ac5",
   "metadata": {},
   "outputs": [
    {
     "name": "stdout",
     "output_type": "stream",
     "text": [
      "Namaste to Eve\n"
     ]
    }
   ],
   "source": [
    "a = 'Namaste to Everyone'\n",
    "print (a[:-5])          #Will exclude till the 5th character from reverse[-5] because ':' semi-colon sign is before the Character Index value.\n",
    "                        #NOTE :  #In negative sign Indexing starts from Reverse[-1]. "
   ]
  },
  {
   "cell_type": "code",
   "execution_count": 126,
   "id": "b9de6ba2-6d9f-464a-984f-e040e11b277e",
   "metadata": {},
   "outputs": [
    {
     "name": "stdout",
     "output_type": "stream",
     "text": [
      "ryone\n"
     ]
    }
   ],
   "source": [
    "a = 'Namaste to Everyone'\n",
    "print (a[-5:])           #Since ':' semi-colon sign is after the Character Index value therefore, it will include the 5th character form Reverse.\n",
    "\n",
    "#Explanation:\n",
    "# 1.Negative Indexing:\n",
    "# *Negative indices count from the end of the string.\n",
    "# *a[-5] corresponds to 'r' (the 5th character from the end).\n",
    "\n",
    "# 2.Slicing Syntax:\n",
    "# *a[-5:] means \"start from the character at index -5 and include all characters to the end of the string\".\n"
   ]
  },
  {
   "cell_type": "code",
   "execution_count": 106,
   "id": "c8b0847c-a75b-4a07-9866-d89a0d373195",
   "metadata": {},
   "outputs": [
    {
     "name": "stdout",
     "output_type": "stream",
     "text": [
      "mas\n"
     ]
    }
   ],
   "source": [
    "a = 'Namaste to Everyone'\n",
    "print (a[2:5])              #Character 2nd -to- 5th (NOTE:Index starts from 0) \n",
    "                            #Explanation:\n",
    "                            #*Slicing Syntax:\n",
    "                            # a[2:5] extracts characters from index 2 (inclusive) to 5 (exclusive).\n",
    "                            # The slice includes the characters at positions 2, 3, and 4."
   ]
  },
  {
   "cell_type": "code",
   "execution_count": null,
   "id": "dc22e5f8-a18f-4c9b-b537-23e151331b95",
   "metadata": {},
   "outputs": [],
   "source": []
  },
  {
   "cell_type": "code",
   "execution_count": null,
   "id": "3757236c-7272-4ca3-a210-276f45ff04b1",
   "metadata": {},
   "outputs": [],
   "source": [
    "#Arithmetic Operation in string"
   ]
  },
  {
   "cell_type": "code",
   "execution_count": 128,
   "id": "a4992c38-835d-47de-b670-1bc8b497337d",
   "metadata": {},
   "outputs": [
    {
     "data": {
      "text/plain": [
       "'Namaste to EveryoneNamaste to EveryoneNamaste to Everyone'"
      ]
     },
     "execution_count": 128,
     "metadata": {},
     "output_type": "execute_result"
    }
   ],
   "source": [
    "a*3"
   ]
  },
  {
   "cell_type": "code",
   "execution_count": 130,
   "id": "409342f4-f71e-460f-ba89-17cdd63239b6",
   "metadata": {},
   "outputs": [
    {
     "data": {
      "text/plain": [
       "'Namaste to EveryoneNamaste to Everyone'"
      ]
     },
     "execution_count": 130,
     "metadata": {},
     "output_type": "execute_result"
    }
   ],
   "source": [
    "a + a"
   ]
  },
  {
   "cell_type": "code",
   "execution_count": null,
   "id": "57e8ec40-6c52-4933-a225-342344dc78c8",
   "metadata": {},
   "outputs": [],
   "source": []
  },
  {
   "cell_type": "code",
   "execution_count": null,
   "id": "1eab300a-9f9f-4c11-9f7c-3d74a977787b",
   "metadata": {},
   "outputs": [],
   "source": []
  },
  {
   "cell_type": "code",
   "execution_count": null,
   "id": "4adcb6cc-904a-4239-a3c5-023e075f63bf",
   "metadata": {},
   "outputs": [],
   "source": [
    "#--List--"
   ]
  },
  {
   "cell_type": "code",
   "execution_count": null,
   "id": "d9c5603a-2c0b-49b0-8594-a81503a2a465",
   "metadata": {},
   "outputs": [],
   "source": [
    "#NOTE: List can store multiple separater values."
   ]
  },
  {
   "cell_type": "code",
   "execution_count": 134,
   "id": "dc61fbb7-4a8b-462c-b7fa-fb9170a99957",
   "metadata": {},
   "outputs": [
    {
     "data": {
      "text/plain": [
       "[1, 2, 3, 4, 5]"
      ]
     },
     "execution_count": 134,
     "metadata": {},
     "output_type": "execute_result"
    }
   ],
   "source": [
    "[1,2,3,4,5]   #',' separates and shows that they are different values.\n",
    "              # It has same Indexing Method as the String (Indexing starts from [0] and in Reverse Indexing starts from [1] or [-1]"
   ]
  },
  {
   "cell_type": "code",
   "execution_count": 136,
   "id": "b57270e3-5a5f-4e92-bb21-0f2ad7975948",
   "metadata": {},
   "outputs": [
    {
     "data": {
      "text/plain": [
       "['Apple', 'Banana', 'Mango']"
      ]
     },
     "execution_count": 136,
     "metadata": {},
     "output_type": "execute_result"
    }
   ],
   "source": [
    "['Apple','Banana','Mango']"
   ]
  },
  {
   "cell_type": "code",
   "execution_count": 138,
   "id": "84fb9d7e-0d50-4067-9f9e-90c354f7996c",
   "metadata": {},
   "outputs": [
    {
     "data": {
      "text/plain": [
       "['Apple', 'Banana', [1, 2, 3, 4, 5], True]"
      ]
     },
     "execution_count": 138,
     "metadata": {},
     "output_type": "execute_result"
    }
   ],
   "source": [
    "['Apple','Banana',[1,2,3,4,5] , True ]   #ADVANTAGE: Different data types can be used in a single list and Nested List option is also available."
   ]
  },
  {
   "cell_type": "code",
   "execution_count": 146,
   "id": "50ecef0e-e2c0-40d9-ac2f-bc61b583105e",
   "metadata": {},
   "outputs": [
    {
     "data": {
      "text/plain": [
       "['Apple', 'Banana', 'Mango', 'Grapes']"
      ]
     },
     "execution_count": 146,
     "metadata": {},
     "output_type": "execute_result"
    }
   ],
   "source": [
    "fruits_name = ['Apple','Banana','Mango']\n",
    "fruits_name.append ('Grapes')           #ADVANTAGE: We can also change or update the data,values or elements in the list even when time for calling.\n",
    "fruits_name"
   ]
  },
  {
   "cell_type": "code",
   "execution_count": 152,
   "id": "db2f7570-005e-4e9b-b941-50fa3f1792db",
   "metadata": {},
   "outputs": [
    {
     "data": {
      "text/plain": [
       "['Pineapple', 'Banana', 'Mango', 'Grapes']"
      ]
     },
     "execution_count": 152,
     "metadata": {},
     "output_type": "execute_result"
    }
   ],
   "source": [
    "fruits_name [0] = 'Pineapple'#ADVANTAGE: We can change or update the elements of the list Even by the Particular Index.\n",
    "fruits_name               # Here we have replaced the Index [0] element which was'Apple' to the Assigned Element at fruits_name [0] which is 'Pineapple'"
   ]
  },
  {
   "cell_type": "code",
   "execution_count": 156,
   "id": "b2c774b0-33ee-4212-8634-4cba0942d28b",
   "metadata": {},
   "outputs": [
    {
     "data": {
      "text/plain": [
       "[1, 2, 3, 4, 5]"
      ]
     },
     "execution_count": 156,
     "metadata": {},
     "output_type": "execute_result"
    }
   ],
   "source": [
    "nested_list = ['Apple','Banana',[1,2,3,4,5] , True ] \n",
    "nested_list [2]"
   ]
  },
  {
   "cell_type": "code",
   "execution_count": 182,
   "id": "9f02a765-42f9-49f7-b2a1-2112f3475bdd",
   "metadata": {},
   "outputs": [
    {
     "data": {
      "text/plain": [
       "4"
      ]
     },
     "execution_count": 182,
     "metadata": {},
     "output_type": "execute_result"
    }
   ],
   "source": [
    "nested_list = ['Apple','Banana',[1,2,3,4,5] , True ] \n",
    "nested_list [2][3]    #Here we get the 3rd Index Element '4' of the 2nd Index Element that is [1,2,3,4,5]. NOTE:Indexing starts from [0].\n",
    "#Perform trial and check here and guess the result for better understanding (Practise Here)"
   ]
  },
  {
   "cell_type": "code",
   "execution_count": 180,
   "id": "f569a76d-9182-449b-912c-4ee2f9757645",
   "metadata": {},
   "outputs": [
    {
     "data": {
      "text/plain": [
       "(4, ['Rishi', 'Raj'])"
      ]
     },
     "execution_count": 180,
     "metadata": {},
     "output_type": "execute_result"
    }
   ],
   "source": [
    "nested_list = ['Apple','Banana',[1,2,3,4,5] , True ] \n",
    "nested_list [2][3],['Rishi','Raj']     #Here we have added one more list to the result(output) that is  ['Rishi', 'Raj'].\n",
    "#Perform trial and check here and guess the result for better understanding (Practise Here)"
   ]
  },
  {
   "cell_type": "code",
   "execution_count": 176,
   "id": "384b46b0-c344-4745-b0c0-4b2d0c5cdd2b",
   "metadata": {},
   "outputs": [
    {
     "data": {
      "text/plain": [
       "'a'"
      ]
     },
     "execution_count": 176,
     "metadata": {},
     "output_type": "execute_result"
    }
   ],
   "source": [
    "nested_list = ['Apple','Banana',[1,2,3,4,5] , True ] \n",
    "nested_list [1][3]    #Here we get the 3rd Index element 'a' of the 1st Index element 'Banana'. \n",
    "#Perform trial and check here and guess the result for better understanding (Practise Here)"
   ]
  },
  {
   "cell_type": "code",
   "execution_count": null,
   "id": "617355de-f634-473e-b58a-757a5e7b2489",
   "metadata": {},
   "outputs": [],
   "source": []
  },
  {
   "cell_type": "code",
   "execution_count": null,
   "id": "79365333-ead4-4487-a4d6-5ebe199a97c6",
   "metadata": {},
   "outputs": [],
   "source": []
  },
  {
   "cell_type": "code",
   "execution_count": null,
   "id": "2e54a9c7-2732-4351-a43e-c04c1f9b0faf",
   "metadata": {},
   "outputs": [],
   "source": [
    "#--Tuples-- "
   ]
  },
  {
   "cell_type": "code",
   "execution_count": null,
   "id": "8ab40a07-1e1b-4b35-9b0b-24a8c3cbebec",
   "metadata": {},
   "outputs": [],
   "source": []
  },
  {
   "cell_type": "code",
   "execution_count": null,
   "id": "70ec8ccd-ed53-4537-954c-defcd4b15991",
   "metadata": {},
   "outputs": [],
   "source": []
  },
  {
   "cell_type": "code",
   "execution_count": null,
   "id": "5e713a62-714b-4ed3-897a-37c47e6f4fce",
   "metadata": {},
   "outputs": [],
   "source": []
  },
  {
   "cell_type": "code",
   "execution_count": null,
   "id": "a5ab28b4-2038-4ca3-baad-aa4f3abc50ed",
   "metadata": {},
   "outputs": [],
   "source": []
  },
  {
   "cell_type": "code",
   "execution_count": null,
   "id": "56f7f2df-443c-4fb9-87a3-0b7507ae004b",
   "metadata": {},
   "outputs": [],
   "source": []
  },
  {
   "cell_type": "code",
   "execution_count": null,
   "id": "d023874c-6742-4a33-862f-0071fab1a7b1",
   "metadata": {},
   "outputs": [],
   "source": []
  },
  {
   "cell_type": "code",
   "execution_count": null,
   "id": "1359285d-1c6c-49f5-bfca-17cba5861933",
   "metadata": {},
   "outputs": [],
   "source": []
  },
  {
   "cell_type": "code",
   "execution_count": null,
   "id": "8a28bd6c-c93d-4a4e-ad0c-78859241150d",
   "metadata": {},
   "outputs": [],
   "source": []
  },
  {
   "cell_type": "code",
   "execution_count": null,
   "id": "2951297d-15a4-4389-9591-8b0a66fdbd51",
   "metadata": {},
   "outputs": [],
   "source": []
  },
  {
   "cell_type": "code",
   "execution_count": null,
   "id": "95dcb945-f750-495d-b636-cfd137ab3f94",
   "metadata": {},
   "outputs": [],
   "source": []
  },
  {
   "cell_type": "code",
   "execution_count": null,
   "id": "fc7ad20c-acee-41e7-9c80-fd0581b08f32",
   "metadata": {},
   "outputs": [],
   "source": []
  },
  {
   "cell_type": "code",
   "execution_count": null,
   "id": "25f9bda3-e780-4eee-b52d-aeaa9b709649",
   "metadata": {},
   "outputs": [],
   "source": []
  },
  {
   "cell_type": "code",
   "execution_count": null,
   "id": "00c8f595-d4b1-408c-a19a-5828e2f8dd51",
   "metadata": {},
   "outputs": [],
   "source": []
  },
  {
   "cell_type": "code",
   "execution_count": null,
   "id": "262826be-dc73-4a11-b3a3-290dd1426888",
   "metadata": {},
   "outputs": [],
   "source": []
  },
  {
   "cell_type": "code",
   "execution_count": null,
   "id": "f6d91a9b-c9f5-4ad0-9d96-6db8b47777b8",
   "metadata": {},
   "outputs": [],
   "source": []
  },
  {
   "cell_type": "code",
   "execution_count": null,
   "id": "afc704f2-1cbd-4ed3-bd66-a58c6a3de05a",
   "metadata": {},
   "outputs": [],
   "source": []
  },
  {
   "cell_type": "code",
   "execution_count": null,
   "id": "1979d669-c7c9-4699-a2c3-7e12a9d0e421",
   "metadata": {},
   "outputs": [],
   "source": []
  }
 ],
 "metadata": {
  "kernelspec": {
   "display_name": "Python 3 (ipykernel)",
   "language": "python",
   "name": "python3"
  },
  "language_info": {
   "codemirror_mode": {
    "name": "ipython",
    "version": 3
   },
   "file_extension": ".py",
   "mimetype": "text/x-python",
   "name": "python",
   "nbconvert_exporter": "python",
   "pygments_lexer": "ipython3",
   "version": "3.12.7"
  }
 },
 "nbformat": 4,
 "nbformat_minor": 5
}
