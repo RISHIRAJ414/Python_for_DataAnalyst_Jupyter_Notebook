{
 "cells": [
  {
   "cell_type": "code",
   "execution_count": null,
   "id": "ebbc78b1-f574-4c26-88b0-b51c7fb0226f",
   "metadata": {},
   "outputs": [],
   "source": [
    "##Funtions##"
   ]
  },
  {
   "cell_type": "code",
   "execution_count": null,
   "id": "a9a4d118-f618-4bdf-9fcc-56329e6553b6",
   "metadata": {},
   "outputs": [],
   "source": [
    "#Explanation:\n",
    "#Functions in Python are blocks of reusable code that perform specific tasks. \n",
    "#They make code modular, organized, and more maintainable. \n",
    "#Functions can take input, perform operations, and return results.\n",
    "\n",
    "#Types of Functions in Python\n",
    "# 1.Built-in Functions: Predefined functions in Python, e.g., print(), len(), type().\n",
    "# 2.User-Defined Functions: Functions created by the user to perform specific tasks.\n",
    "\n",
    "#Defining a Function\n",
    "# *Use the 'def' keyword followed by the function name, parentheses, and a colon. \n",
    "# *Inside the parentheses, you can define parameters.\n",
    "#-       def function_name(parameters):\n",
    "#-              (Function body)\n",
    "#-      return result    (Optional)\n",
    "\n",
    "#Examples:\n",
    "# 1.Example 1: Function Without Parameters\n",
    "#-       def greet():\n",
    "#-           print(\"Namaste!, World!\")\n",
    "#-       greet()                       #Output: Namaste!, World!\n",
    "\n",
    "# 2.Example 2: Function With Parameters\n",
    "#-       def add_numbers(a, b):\n",
    "#-           return a + b\n",
    "#-       result = add_numbers(5, 10)\n",
    "#-       print(result)                # Output: 15\n",
    "\n",
    "# 3.Example 3: Function With Default Parameters\n",
    "#-       def greet(name=\"User\"):\n",
    "#-           print(f\"Namaste!, {name}!\")\n",
    "#-       greet()                         # Output: Namaste!, User!\n",
    "#-       greet(\"Rishi\")                  # Output: Namaste!, Rishi!\n",
    "\n",
    "# 4.Example 4: Function Returning Multiple Values\n",
    "#-       def arithmetic_operations(a, b):\n",
    "#-           return a + b, a - b, a * b, a / b\n",
    "#-       add, sub, mul, div = arithmetic_operations(10, 5)\n",
    "#-       print(add, sub, mul, div)                         # Output: 15, 5, 50, 2.0\n",
    "\n",
    "#5.Lambda (Anonymous) Functions\n",
    "# *Lambda functions are single-expression, anonymous functions. Use the lambda keyword.\n",
    "#-       add = lambda x, y: x + y\n",
    "#-       print(add(3, 7))         # Output: 10\n",
    "\n",
    "#Key Function Concepts\n",
    "# *Scope: Variables defined inside a function have local scope.\n",
    "# *Docstrings: Add documentation to functions using triple quotes.\n",
    "# *Recursion: A function calling itself.\n",
    "\n",
    "#Example of Recursion\n",
    "#-       def factorial(n):\n",
    "#-           if n == 1:\n",
    "#-               return 1\n",
    "#-           return n * factorial(n - 1)\n",
    "#-       print(factorial(5))             # Output: 120"
   ]
  },
  {
   "cell_type": "code",
   "execution_count": 4,
   "id": "af834f46-6a03-499b-8407-d2756c5ae6ff",
   "metadata": {},
   "outputs": [
    {
     "name": "stdout",
     "output_type": "stream",
     "text": [
      "Namaste!, World!\n"
     ]
    }
   ],
   "source": [
    "# 1.Example 1: Function Without Parameters\n",
    "def greet():\n",
    "    print(\"Namaste!, World!\")\n",
    "greet()       "
   ]
  },
  {
   "cell_type": "code",
   "execution_count": 8,
   "id": "e9618036-0992-417b-84bf-7edd746a4aad",
   "metadata": {},
   "outputs": [
    {
     "name": "stdout",
     "output_type": "stream",
     "text": [
      "15\n"
     ]
    }
   ],
   "source": [
    "# 2.Example 2: Function With Parameters\n",
    "def add_numbers(a, b):\n",
    "    return a + b\n",
    "result = add_numbers(5, 10)\n",
    "print(result) "
   ]
  },
  {
   "cell_type": "code",
   "execution_count": 60,
   "id": "f0c3c869-40d8-43e0-8d91-7ec3d6cc3d5e",
   "metadata": {},
   "outputs": [
    {
     "name": "stdout",
     "output_type": "stream",
     "text": [
      "Namaste!, User!\n",
      "Namaste!, Rishi!\n"
     ]
    }
   ],
   "source": [
    "#3.Example 3: Function With Default Parameters\n",
    "def greet(name=\"User\"):\n",
    "    print(f\"Namaste!, {name}!\")\n",
    "greet()                         \n",
    "greet(\"Rishi\") "
   ]
  },
  {
   "cell_type": "code",
   "execution_count": 16,
   "id": "a0a444a7-82ed-46f4-8741-182312e4f00d",
   "metadata": {},
   "outputs": [
    {
     "name": "stdout",
     "output_type": "stream",
     "text": [
      "15 5 50 2.0\n"
     ]
    }
   ],
   "source": [
    "#4.Example 4: Function Returning Multiple Values\n",
    "def arithmetic_operations(a, b):\n",
    "    return a + b, a - b, a * b, a / b\n",
    "add, sub, mul, div = arithmetic_operations(10, 5)\n",
    "print(add, sub, mul, div)   "
   ]
  },
  {
   "cell_type": "code",
   "execution_count": 22,
   "id": "14cf80c7-6ee6-4b24-a102-e738dc495d4c",
   "metadata": {},
   "outputs": [
    {
     "name": "stdout",
     "output_type": "stream",
     "text": [
      "10\n"
     ]
    }
   ],
   "source": [
    "#5.Lambda (Anonymous) Functions\n",
    "# *Lambda functions are single-expression, anonymous functions. \n",
    "# *Use the lambda keyword.\n",
    "add = lambda x, y: x + y\n",
    "print(add(3, 7))"
   ]
  },
  {
   "cell_type": "code",
   "execution_count": 30,
   "id": "136bf8cb-3756-4dbd-9b36-932f6d2ea20d",
   "metadata": {},
   "outputs": [
    {
     "name": "stdout",
     "output_type": "stream",
     "text": [
      "120\n"
     ]
    }
   ],
   "source": [
    "#Example of Recursion\n",
    "def factorial(n):\n",
    "    if n == 1:\n",
    "        return 1\n",
    "    return n * factorial(n - 1)\n",
    "print(factorial(5))   "
   ]
  },
  {
   "cell_type": "code",
   "execution_count": null,
   "id": "8908132c-9e19-40ea-b44d-1efaa6b5540e",
   "metadata": {},
   "outputs": [],
   "source": []
  },
  {
   "cell_type": "code",
   "execution_count": 36,
   "id": "823da5ad-470f-4e9d-aa80-052552d019d1",
   "metadata": {},
   "outputs": [],
   "source": [
    "def our_first_func () :\n",
    "    print ('Our first Function.')     #Creating a function."
   ]
  },
  {
   "cell_type": "code",
   "execution_count": 38,
   "id": "3868c410-ccc5-4780-aac5-b22788c1dc6e",
   "metadata": {},
   "outputs": [
    {
     "name": "stdout",
     "output_type": "stream",
     "text": [
      "Our first Function.\n"
     ]
    }
   ],
   "source": [
    "our_first_func()                      #Calling a function."
   ]
  },
  {
   "cell_type": "code",
   "execution_count": null,
   "id": "2d447903-b1ac-4fa6-80b0-e82c7f1cc4b4",
   "metadata": {},
   "outputs": [],
   "source": []
  },
  {
   "cell_type": "code",
   "execution_count": 40,
   "id": "4f1aa13e-10aa-48a4-9176-148dab3b02fb",
   "metadata": {},
   "outputs": [],
   "source": [
    "def squared_number(number):\n",
    "    print(number**2) #Squairng a number(number**2)"
   ]
  },
  {
   "cell_type": "code",
   "execution_count": 42,
   "id": "b5576c51-9426-45ea-b3f4-147bb2ccfbb3",
   "metadata": {},
   "outputs": [
    {
     "name": "stdout",
     "output_type": "stream",
     "text": [
      "25\n"
     ]
    }
   ],
   "source": [
    "squared_number(5)"
   ]
  },
  {
   "cell_type": "code",
   "execution_count": null,
   "id": "53e136f2-2da2-44cd-bcec-4c2a9ee24e03",
   "metadata": {},
   "outputs": [],
   "source": []
  },
  {
   "cell_type": "code",
   "execution_count": 50,
   "id": "fbeeffc4-ae51-49f3-affe-d6e7832a0a59",
   "metadata": {},
   "outputs": [],
   "source": [
    "#Multiple functions\n",
    "def squared_number_power(number,power):\n",
    "    print(number**power)    #Here we have provided number option as well as its power option."
   ]
  },
  {
   "cell_type": "code",
   "execution_count": 56,
   "id": "774f45ff-f9dd-4770-9bb2-b8fff841833b",
   "metadata": {},
   "outputs": [
    {
     "name": "stdout",
     "output_type": "stream",
     "text": [
      "1000\n"
     ]
    }
   ],
   "source": [
    "squared_number_power(10,3)  #Here we can perform any raise to the power of any number.Where,values are as (number,power)."
   ]
  },
  {
   "cell_type": "code",
   "execution_count": null,
   "id": "9d2159e1-2d96-47d5-9ee7-055451e7c9af",
   "metadata": {},
   "outputs": [],
   "source": []
  },
  {
   "cell_type": "code",
   "execution_count": null,
   "id": "e29c2435-7de0-4b73-b028-ba94e9678cc9",
   "metadata": {},
   "outputs": [],
   "source": []
  },
  {
   "cell_type": "code",
   "execution_count": null,
   "id": "67f3d68c-5a8f-46a0-9b07-385119dc1598",
   "metadata": {},
   "outputs": [],
   "source": [
    "#Arbitrary Functions"
   ]
  },
  {
   "cell_type": "code",
   "execution_count": null,
   "id": "a1982502-5690-4557-ae62-c3113d64dc13",
   "metadata": {},
   "outputs": [],
   "source": [
    "#Arbitrary functions in Python generally refer to functions that can take a variable number of arguments. \n",
    "#These are achieved using *args for positional arguments and **kwargs for keyword arguments. \n",
    "\n",
    "#Examples:\n",
    "#-- 1. Using (*args) for Arbitrary Positional Arguments\n",
    "#The (*args) parameter allows a function to accept any number of positional arguments, packed as a tuple.\n",
    "\n",
    "#-       def add_numbers(*args):\n",
    "#-           return sum(args)\n",
    "\n",
    "# Example usage\n",
    "#-       result = add_numbers(1, 2, 3, 4, 5)  # Returns 15\n",
    "#-       print(result)\n",
    "\n",
    "\n",
    "#-- 2. Using (**kwargs) for Arbitrary Keyword Arguments\n",
    "#The (**kwargs) parameter lets a function accept any number of keyword arguments, packed as a dictionary.\n",
    "\n",
    "#-       def print_user_info(**kwargs):\n",
    "#-           for key, value in kwargs.items():\n",
    "#-               print(f\"{key}: {value}\")\n",
    "\n",
    "#Example usage\n",
    "#-       print_user_info(name=\"Alice\", age=30, city=\"New York\")\n",
    "\n",
    "\n",
    "#-- 3. Combining (*args) and (**kwargs)\n",
    "#You can combine (*args) and (**kwargs) in a single function to handle both positional and keyword arguments.\n",
    "\n",
    "#-       def greet(*args, **kwargs):\n",
    "#-           for name in args:\n",
    "#-               print(f\"Hello, {name}!\")\n",
    "#-           for key, value in kwargs.items():\n",
    "#-               print(f\"{key}: {value}\")\n",
    "\n",
    "#Example usage\n",
    "#-       greet(\"Alice\", \"Bob\", age=25, city=\"Boston\")\n",
    "\n",
    "\n",
    "#-- 4. Arbitrary Functions with Default Parameters\n",
    "#You can also mix *args and (**kwargs) with default parameters.\n",
    "\n",
    "#-       def custom_function(greeting=\"Hi\", *args, **kwargs):\n",
    "#-           print(greeting)\n",
    "#-           for name in args:\n",
    "#-               print(f\"{greeting}, {name}!\")\n",
    "#-           if kwargs:\n",
    "#-               print(\"Additional Info:\")\n",
    "#-               for key, value in kwargs.items():\n",
    "#-                   print(f\"{key}: {value}\")\n",
    "\n",
    "#Example usage\n",
    "#-       custom_function(\"Hello\", \"Alice\", \"Bob\", city=\"London\", age=29)\n",
    "\n",
    "\n",
    "#-- 5. Passing (*args) and (**kwargs) to Other Functions\n",
    "#You can pass (*args) and (**kwargs) from one function to another.\n",
    "\n",
    "#-       def display_details(*args, **kwargs):\n",
    "#-           another_function(*args, **kwargs)\n",
    "\n",
    "#-       def another_function(*args, **kwargs):\n",
    "#-           print(\"Positional arguments:\", args)\n",
    "#-           print(\"Keyword arguments:\", kwargs)\n",
    "\n",
    "#Example usage\n",
    "#-       display_details(\"Alice\", \"Bob\", age=25, city=\"NYC\")\n",
    "\n",
    "#Key Points:\n",
    "# *Use (*args) for a variable number of positional arguments.\n",
    "# *Use (**kwargs) for a variable number of keyword arguments.\n",
    "# *The order in the function signature is:\n",
    "# 1.Regular arguments\n",
    "#   -(*args)\n",
    "# 2.Default arguments\n",
    "#   -(**kwargs)\n"
   ]
  },
  {
   "cell_type": "code",
   "execution_count": 84,
   "id": "b12f7216-9b26-4db4-a6f1-1628721d7fd9",
   "metadata": {},
   "outputs": [
    {
     "name": "stdout",
     "output_type": "stream",
     "text": [
      "15\n"
     ]
    }
   ],
   "source": [
    "#1. Using (*args) for Arbitrary Positional Arguments\n",
    "#The (*args) parameter allows a function to accept any number of positional arguments, packed as a tuple.\n",
    "\n",
    "def add_numbers(*args):\n",
    "    return sum(args)\n",
    "\n",
    "# Example usage\n",
    "result = add_numbers(1, 2, 3, 4, 5)  \n",
    "print(result)\n"
   ]
  },
  {
   "cell_type": "code",
   "execution_count": 98,
   "id": "9060b344-756f-40fb-9654-d3db5e5408e5",
   "metadata": {},
   "outputs": [
    {
     "name": "stdout",
     "output_type": "stream",
     "text": [
      "name: Rishi\n",
      "age: 20\n",
      "city: New Delhi\n"
     ]
    }
   ],
   "source": [
    "#-- 2. Using (**kwargs) for Arbitrary Keyword Arguments\n",
    "#The (**kwargs) parameter lets a function accept any number of keyword arguments, packed as a dictionary.\n",
    "\n",
    "def print_user_info(**kwargs):\n",
    "    for key, value in kwargs.items():\n",
    "        print(f\"{key}: {value}\")\n",
    "\n",
    "#Example usage\n",
    "print_user_info(name=\"Rishi\", age=20, city=\"New Delhi\")\n"
   ]
  },
  {
   "cell_type": "code",
   "execution_count": 100,
   "id": "7d1cc08f-6c6e-4f07-bda6-ce7a70e777fb",
   "metadata": {},
   "outputs": [
    {
     "name": "stdout",
     "output_type": "stream",
     "text": [
      "Hello, Rishi!\n",
      "Hello, Raj!\n",
      "age: 20\n",
      "city: New Delhi\n"
     ]
    }
   ],
   "source": [
    "#3. Combining (*args) and (**kwargs)\n",
    "#You can combine (*args) and (**kwargs) in a single function to handle both positional and keyword arguments.\n",
    "\n",
    "def greet(*args,**kwargs):\n",
    "    for name in args:\n",
    "        print(f\"Hello, {name}!\")\n",
    "    for key, value in kwargs.items():\n",
    "        print(f\"{key}: {value}\")\n",
    "\n",
    "#Example usage\n",
    "greet(\"Rishi\", \"Raj\", age=20, city=\"New Delhi\")"
   ]
  },
  {
   "cell_type": "code",
   "execution_count": 102,
   "id": "fa649acb-661f-4c8f-b87b-ccd5eb768e1f",
   "metadata": {},
   "outputs": [
    {
     "name": "stdout",
     "output_type": "stream",
     "text": [
      "Namaste\n",
      "Namaste, Rishi!\n",
      "Namaste, Raj!\n",
      "Additional Info:\n",
      "city: New Delhi\n",
      "age: 20\n"
     ]
    }
   ],
   "source": [
    "#4. Arbitrary Functions with Default Parameters\n",
    "#You can also mix *args and (**kwargs) with default parameters.\n",
    "\n",
    "def custom_function(greeting=\"Hi\", *args, **kwargs):\n",
    "    print(greeting)\n",
    "    for name in args:\n",
    "        print(f\"{greeting}, {name}!\")\n",
    "    if kwargs:\n",
    "        print(\"Additional Info:\")\n",
    "    for key, value in kwargs.items():\n",
    "        print(f\"{key}: {value}\")\n",
    "\n",
    "#Example usage\n",
    "custom_function(\"Namaste\", \"Rishi\", \"Raj\", city=\"New Delhi\", age=20)\n"
   ]
  },
  {
   "cell_type": "code",
   "execution_count": 104,
   "id": "bd206305-f942-49bd-b828-b9739733439e",
   "metadata": {},
   "outputs": [
    {
     "name": "stdout",
     "output_type": "stream",
     "text": [
      "Positional arguments: ('Rishi', 'Raj')\n",
      "Keyword arguments: {'age': 20, 'city': 'New Delhi'}\n"
     ]
    }
   ],
   "source": [
    "#5. Passing (*args) and (**kwargs) to Other Functions\n",
    "#You can pass (*args) and (**kwargs) from one function to another.\n",
    "\n",
    "def display_details(*args, **kwargs):\n",
    "    another_function(*args, **kwargs)\n",
    "\n",
    "def another_function(*args, **kwargs):\n",
    "    print(\"Positional arguments:\", args)\n",
    "    print(\"Keyword arguments:\", kwargs)\n",
    "\n",
    "#Example usage\n",
    "display_details(\"Rishi\", \"Raj\", age=20, city=\"New Delhi\")"
   ]
  },
  {
   "cell_type": "code",
   "execution_count": null,
   "id": "2c8c2904-61d2-46da-803f-7d8c63616b16",
   "metadata": {},
   "outputs": [],
   "source": []
  },
  {
   "cell_type": "code",
   "execution_count": 178,
   "id": "d5c0df56-e6a3-4977-8258-dd9988629020",
   "metadata": {},
   "outputs": [],
   "source": [
    "def number_args(*number):      #Here we don,t know what is going to be in arguments(The argument is unknown),(Arbitrary Argument)\n",
    "    print(number[0]*number[1]) #(Multiply the index [0] with index [1] value)\n",
    "                               #This condition is gonna apply on the numbers or arguments which gonna input in future.\n",
    "    #NOTE:We put '*' before the variable to make it to use to store Arbitrary Arguments.\n"
   ]
  },
  {
   "cell_type": "code",
   "execution_count": 180,
   "id": "2dc752fe-3827-42dd-9c7a-78dc7a97f3e2",
   "metadata": {},
   "outputs": [
    {
     "name": "stdout",
     "output_type": "stream",
     "text": [
      "3\n"
     ]
    }
   ],
   "source": [
    "number_args(1,3,5,7,9,2)   #NOTE:This (1,3,5,7,9,2) this is called Tuple."
   ]
  },
  {
   "cell_type": "code",
   "execution_count": null,
   "id": "6b299dfd-be97-4a8f-b131-e3d672e5ddd9",
   "metadata": {},
   "outputs": [],
   "source": []
  },
  {
   "cell_type": "code",
   "execution_count": 183,
   "id": "f7bcd3ee-5bce-484c-a374-a3f31102aa6c",
   "metadata": {},
   "outputs": [],
   "source": [
    "def number_args(*number):      #Here we don,t know what is going to be in arguments(The argument is unknown)\n",
    "    print(number[4]*number[1]) #This condition is gonna apply on the unknown numbers or arguments.."
   ]
  },
  {
   "cell_type": "code",
   "execution_count": 185,
   "id": "72031b05-795f-4edb-8bfa-57269ca179ac",
   "metadata": {},
   "outputs": [
    {
     "name": "stdout",
     "output_type": "stream",
     "text": [
      "27\n"
     ]
    }
   ],
   "source": [
    "number_args(1,3,5,7,9,2)   #NOTE:This (1,3,5,7,9,2) this is called Tuple."
   ]
  },
  {
   "cell_type": "code",
   "execution_count": null,
   "id": "dc1833cf-e09d-4f94-847e-0f34871b640d",
   "metadata": {},
   "outputs": [],
   "source": []
  },
  {
   "cell_type": "code",
   "execution_count": null,
   "id": "890f1c8a-f09d-4148-a738-ef665b00625c",
   "metadata": {},
   "outputs": [],
   "source": [
    "#Another Method but not Used much (Assigning Tuple early on the top)"
   ]
  },
  {
   "cell_type": "code",
   "execution_count": 187,
   "id": "702c5683-2400-4842-8cbc-5fc6086ea752",
   "metadata": {},
   "outputs": [],
   "source": [
    "tuples_args=(1,3,5,7,9,2)\n",
    "def number_args(*number):\n",
    "    print(number[4]*number[1])"
   ]
  },
  {
   "cell_type": "code",
   "execution_count": 189,
   "id": "1a6db371-b6c9-4ab5-a4f3-ce3800cfd5d0",
   "metadata": {},
   "outputs": [
    {
     "name": "stdout",
     "output_type": "stream",
     "text": [
      "27\n"
     ]
    }
   ],
   "source": [
    "number_args(*tuples_args)  #Calling tuples_args \n",
    "                           #NOTE:Just dont forget '*' at the begining."
   ]
  },
  {
   "cell_type": "code",
   "execution_count": null,
   "id": "71666a26-58e9-42f6-8502-d1dd91d72833",
   "metadata": {},
   "outputs": [],
   "source": []
  },
  {
   "cell_type": "code",
   "execution_count": 191,
   "id": "89dec4a8-b785-4462-b423-81a5346d24a4",
   "metadata": {},
   "outputs": [],
   "source": [
    "def number_args(*character):      \n",
    "    print(character) #This condition is gonna apply on the unknown numbers or arguments.."
   ]
  },
  {
   "cell_type": "code",
   "execution_count": 197,
   "id": "a7ab86b1-3d67-4eaf-9d57-3d1304a28e52",
   "metadata": {},
   "outputs": [
    {
     "name": "stdout",
     "output_type": "stream",
     "text": [
      "('Namaste', 'World')\n"
     ]
    }
   ],
   "source": [
    "number_args('Namaste','World')"
   ]
  },
  {
   "cell_type": "code",
   "execution_count": null,
   "id": "014e8d23-11f8-48bd-b9b5-fb3c1a486833",
   "metadata": {},
   "outputs": [],
   "source": []
  },
  {
   "cell_type": "code",
   "execution_count": null,
   "id": "84296f3c-56a9-460e-ad93-64205ae1c3f8",
   "metadata": {},
   "outputs": [],
   "source": []
  },
  {
   "cell_type": "code",
   "execution_count": null,
   "id": "0d219f8c-5d5b-4973-bbfa-1c8ca6aa2e14",
   "metadata": {},
   "outputs": [],
   "source": [
    "#Keyword arguments"
   ]
  },
  {
   "cell_type": "code",
   "execution_count": null,
   "id": "e430a7c8-c4e5-41c6-9ce5-816fc6c92f55",
   "metadata": {},
   "outputs": [],
   "source": [
    "#Keyword arguments are a way of passing arguments to a function using the name of the parameter as a reference.\n",
    "#Rather than relying solely on their position.\n",
    "#This improves code readability and allows for more flexible argument passing. \n",
    "\n",
    "#1. Basic Usage\n",
    "# *Keyword arguments are passed by explicitly naming the parameter in the function call:\n",
    "\n",
    "#-       def greet(name, message):\n",
    "#-           print(f\"{message}, {name}!\")\n",
    "#-           (#Using keyword arguments) \n",
    "\n",
    "#-       greet(name=\"Alice\", message=\"Hello\")\n",
    "#-       greet(message=\"Hi\", name=\"Bob\")  (#Order doesn't matter)\n",
    "\n",
    "\n",
    "#2. Default Parameter Values\n",
    "# *You can define default values for parameters, allowing you to omit them when calling the function:\n",
    "\n",
    "#-       def greet(name, message=\"Hello\"):\n",
    "#-           print(f\"{message}, {name}!\")\n",
    "#-           (#Call with default value)\n",
    "\n",
    "#-       greet(name=\"Alice\")  # Output: Hello, Alice!\n",
    "#-           (#Override default value)\n",
    "\n",
    "#-       greet(name=\"Bob\", message=\"Hi\")  # Output: Hi, Bob!\n",
    "\n",
    "\n",
    "#3. **kwargs (Arbitrary Keyword Arguments)\n",
    "# *Functions can accept an arbitrary number of keyword arguments using **kwargs. These arguments are captured as a dictionary:\n",
    "\n",
    "#-       def print_details(**kwargs):\n",
    "#-           for key, value in kwargs.items():\n",
    "#-               print(f\"{key}: {value}\")\n",
    "\n",
    "#-       print_details(name=\"Alice\", age=25, city=\"New York\")\n",
    "# Output:\n",
    "# name: Alice\n",
    "# age: 25\n",
    "# city: New York\n",
    "\n",
    "\n",
    "#4.Combining Positional and Keyword Arguments\n",
    "# *You can mix positional arguments, default arguments, and **kwargs:\n",
    "\n",
    "#-       def describe_pet(name, species=\"dog\", **kwargs):\n",
    "#-           print(f\"{name} is a {species}.\")\n",
    "#-           for key, value in kwargs.items():\n",
    "#-               print(f\"{key}: {value}\")\n",
    "\n",
    "#-       describe_pet(\"Buddy\", age=3, color=\"brown\")\n",
    "# Output:\n",
    "# Buddy is a dog.\n",
    "# age: 3\n",
    "# color: brown\n",
    "\n",
    "\n",
    "#5. Order of Arguments\n",
    "# *The order of parameters in a function definition should be:\n",
    "# 1.Positional arguments\n",
    "# 2.Default arguments\n",
    "# 3.*args (if any)\n",
    "# 4.**kwargs (if any)\n",
    "\n",
    "#-       def example(pos1, pos2, kwarg1=\"default\", *args, **kwargs):\n",
    "#-           pass\n",
    "\n",
    "#Advantages of Keyword Arguments:\n",
    "# *Readability: Improves clarity by specifying parameter names.\n",
    "# *Flexibility: Supports optional arguments without needing complex logic.\n",
    "# *Order Independence: Order of arguments in function calls doesn't matter when using keywords.s\n"
   ]
  },
  {
   "cell_type": "code",
   "execution_count": 12,
   "id": "5264efdc-5b11-4d9a-9304-ad9bb0cae46b",
   "metadata": {},
   "outputs": [],
   "source": [
    "def number_raised_to_power(number,power):\n",
    "    print(number**power)"
   ]
  },
  {
   "cell_type": "code",
   "execution_count": 14,
   "id": "0f4ab7f7-09b1-4266-868f-a3546a133c44",
   "metadata": {},
   "outputs": [
    {
     "name": "stdout",
     "output_type": "stream",
     "text": [
      "81\n"
     ]
    }
   ],
   "source": [
    "number_raised_to_power(9,2)"
   ]
  },
  {
   "cell_type": "code",
   "execution_count": null,
   "id": "3bab74cb-cbfa-4bb6-b6f9-b268134c7cf9",
   "metadata": {},
   "outputs": [],
   "source": []
  },
  {
   "cell_type": "code",
   "execution_count": 12,
   "id": "9e9317ae-4def-4a0f-868a-19a7458e6d66",
   "metadata": {},
   "outputs": [],
   "source": [
    "def number_raised_to_power(number,power):\n",
    "    print(number**power)"
   ]
  },
  {
   "cell_type": "code",
   "execution_count": 18,
   "id": "4831e1ff-fa61-45d3-a1c9-7dba7ea8c199",
   "metadata": {},
   "outputs": [
    {
     "name": "stdout",
     "output_type": "stream",
     "text": [
      "512\n"
     ]
    }
   ],
   "source": [
    "number_raised_to_power(power=9,number=2) #Here we have switched the positions of number and power.It main focus is on assigned value instead of position"
   ]
  },
  {
   "cell_type": "code",
   "execution_count": null,
   "id": "a539139d-844e-4216-b128-1d1c0b564283",
   "metadata": {},
   "outputs": [],
   "source": []
  },
  {
   "cell_type": "code",
   "execution_count": null,
   "id": "e1a4e062-cc07-4e7d-96e7-f51cb2a1d06a",
   "metadata": {},
   "outputs": [],
   "source": [
    "#Arbitrary keyword function (**kwarg)"
   ]
  },
  {
   "cell_type": "code",
   "execution_count": 72,
   "id": "dd945b97-2376-4a5e-98fc-2118e9b94991",
   "metadata": {},
   "outputs": [],
   "source": [
    "def my_number_kwarg(**number):  #Here for Arbitrary Keyword we have put ** (2 stars before the variable)\n",
    "    print('My number is : '+ number['integer'] , ' My second number is : '+ number['integer2'])                    \n",
    "    "
   ]
  },
  {
   "cell_type": "code",
   "execution_count": 76,
   "id": "d3722dd1-82eb-43df-87ff-887b8b85f37f",
   "metadata": {},
   "outputs": [
    {
     "name": "stdout",
     "output_type": "stream",
     "text": [
      "My number is : 1234  My second number is : 5678\n"
     ]
    }
   ],
   "source": [
    "my_number_kwarg(integer = '1234' , integer2 = '5678' )"
   ]
  },
  {
   "cell_type": "code",
   "execution_count": 80,
   "id": "47709ae1-bc0c-464d-bdac-3051d5bafa38",
   "metadata": {},
   "outputs": [
    {
     "name": "stdout",
     "output_type": "stream",
     "text": [
      "My number is: 5 My second number is: 10, 15\n"
     ]
    }
   ],
   "source": [
    "def my_number_kwarg(**number):  # Arbitrary keyword arguments\n",
    "    print(\n",
    "        'My number is: ' + str(number['integer']), \n",
    "        'My second number is: ' + str(number['integer2']) + ', ' + str(number['integer3']) #Here we can have as much as Arbitrary Keyword as we want.\n",
    "    )\n",
    "\n",
    "# Example usage:\n",
    "my_number_kwarg(integer=5, integer2=10, integer3=15)\n",
    "\n",
    "#Explanation:\n",
    "# *Access each key individually, like number['integer2'] and number['integer3'].\n",
    "# *Use str() to convert the values to strings for concatenation.\n"
   ]
  },
  {
   "cell_type": "code",
   "execution_count": null,
   "id": "fc2a731a-7724-4803-8e2b-0986fea9d8aa",
   "metadata": {},
   "outputs": [],
   "source": []
  },
  {
   "cell_type": "code",
   "execution_count": null,
   "id": "2d1c468b-4782-4bd9-9201-da3b39d4351d",
   "metadata": {},
   "outputs": [],
   "source": []
  }
 ],
 "metadata": {
  "kernelspec": {
   "display_name": "Python [conda env:base] *",
   "language": "python",
   "name": "conda-base-py"
  },
  "language_info": {
   "codemirror_mode": {
    "name": "ipython",
    "version": 3
   },
   "file_extension": ".py",
   "mimetype": "text/x-python",
   "name": "python",
   "nbconvert_exporter": "python",
   "pygments_lexer": "ipython3",
   "version": "3.12.7"
  }
 },
 "nbformat": 4,
 "nbformat_minor": 5
}
